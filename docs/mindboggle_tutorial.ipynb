{
 "cells": [
  {
   "cell_type": "markdown",
   "metadata": {
    "deletable": true,
    "editable": true
   },
   "source": [
    "<img align=\"left\" style=\"padding-right:10px; width:200px;\" src=\"https://mfr.osf.io/export?url=https://osf.io/q7ym9/?action=download%26direct%26mode=render&initialWidth=673&childId=mfrIframe&format=1200x1200.jpeg\">\n",
    "*This jupyter notebook provides a tutorial for [Mindboggle](http://mindboggle.info), and assumes that a docker container has been installed ``[1]`` and that the notebook was run within the container ``[2]``. Figures are taken from the primary [Mindboggle article](http://journals.plos.org/ploscompbiol/article?id=10.1371/journal.pcbi.1005350#sec007).*  \n",
    "\n",
    "  <font size=\"2\">&nbsp;&nbsp;``[1] docker run --rm -ti -v /:/root/data -p 8888:8888 --entrypoint /bin/bash bids/mindboggle;``  \n",
    "  &nbsp;&nbsp;``[2] jupyter notebook --ip 0.0.0.0``</font>  \n",
    "  <font size=\"1\">&nbsp;&nbsp;Written by <a href=\"http://binarybottle.com\">Arno Klein</a> (<a href=\"https://creativecommons.org/licenses/by/3.0/us/legalcode\">CC-BY</a>)</font>"
   ]
  },
  {
   "cell_type": "markdown",
   "metadata": {
    "deletable": true,
    "editable": true
   },
   "source": [
    "# Mindboggle tutorial\n",
    "\n",
    "1. [Mindboggle processing steps](#processing)\n",
    "2. [Run \"mindboggle --help\" on the command line](#help)\n",
    "3. [Run \"mindboggle\" command with example data](#command)\n",
    "4. [Mindboggle Python library](#library)\n",
    "5. Run individual functions:\n",
    "   - [Example 1: Compute histogram values from a nibabel-readable image](#example1)\n",
    "   - [Example 2: Compute statistical measures across vertices per label](#example2)\n",
    "   - [Example 3: Decimate a left postcentral pial surface](#example3)\n",
    "   - [Example 4: Relabel a VTK surface](#example4)\n",
    "   - [Example 5: Segment deep vertices of surface into contiguous regions](#example5)\n",
    "   - [Example 6: Extract sulcus label borders](#example6)"
   ]
  },
  {
   "cell_type": "markdown",
   "metadata": {},
   "source": [
    "<a id=\"processing\"></a>\n",
    "\n",
    "## Mindboggle processing steps\n",
    "\n",
    "<img style=\"padding-right:10px;\" src=\"https://mfr.osf.io/export?url=https://osf.io/dcuh8/?action=download%26direct%26mode=render&initialWidth=673&childId=mfrIframe&format=1200x1200.jpeg\">\n",
    "\n",
    "### Output\n",
    "Mindboggle takes in (FreeSurfer- and optionally ANTs-) preprocessed T1-weighted MRI data, and outputs nifti volumes, vtk surfaces, and csv tables containing label, feature, and shape information for further analysis:\n",
    "\n",
    "- **labels/**:  *integer-labeled vtk surfaces and nifti volumes*\n",
    "- **features/**:  *integer-labeled sulci or fundi on vtk surfaces*\n",
    "- **shapes/**:  *float shape value for every point on vtk surfaces*\n",
    "- **tables/**:  *csv tables of shape values for every label/feature/vertex*\n",
    "\n",
    "### Processing steps\n",
    "\n",
    "1. **Combine FreeSurfer and ANTs gray/white segmentations.**\n",
    "<img style=\"padding-right:10px; width:600px;\" src=\"https://mfr.osf.io/export?url=https://osf.io/k5kr8/?action=download%26direct%26mode=render&initialWidth=673&childId=mfrIframe&format=1200x1200.jpeg\">\n",
    "2. **Fill hybrid segmentation with (FreeSurfer- or ANTs-registered) labels.**\n",
    "3. **Compute volume shape measures for each labeled region:**\n",
    "    - **volume** and \"thickinthehead\" **cortical thickness**\n",
    "<img style=\"padding-right:10px; width:600px;\" src=\"https://mfr.osf.io/export?url=https://osf.io/n5hvx/?action=download%26direct%26mode=render&initialWidth=673&childId=mfrIframe&format=1200x1200.jpeg\">\n",
    "4. **Compute surface shape measures for every cortical mesh vertex** (in addition to FreeSurfer's convexity and thickness)\n",
    "    - **surface area**\n",
    "<img style=\"padding-right:10px; width:600px;\" src=\"https://mfr.osf.io/export?url=https://osf.io/6varh/?action=download%26direct%26mode=render&initialWidth=673&childId=mfrIframe&format=1200x1200.jpeg\">\n",
    "    - **geodesic depth** and **travel depth**\n",
    "<img style=\"padding-right:10px; width:600px;\" src=\"https://mfr.osf.io/export?url=https://osf.io/uv9u6/?action=download%26direct%26mode=render&initialWidth=673&childId=mfrIframe&format=1200x1200.jpeg\">\n",
    "    - **mean curvature**\n",
    "<img style=\"padding-right:10px; width:600px;\" src=\"https://mfr.osf.io/export?url=https://osf.io/v7v2u/?action=download%26direct%26mode=render&initialWidth=673&childId=mfrIframe&format=1200x1200.jpeg\">\n",
    "5. **Extract cortical surface features**:\n",
    "    - **folds** (left and upper right, with manual labels) \n",
    "    - **sulci** (lower right)\n",
    "<img style=\"padding-right:10px; width:600px;\" src=\"https://mfr.osf.io/export?url=https://osf.io/jq828/?action=download%26direct%26mode=render&initialWidth=673&childId=mfrIframe&format=1200x1200.jpeg\">\n",
    "    - **fundi**\n",
    "<img style=\"padding-right:10px; width:300px;\" src=\"https://mfr.osf.io/export?url=https://osf.io/27pjt/?action=download%26direct%26mode=render&initialWidth=673&childId=mfrIframe&format=1200x1200.jpeg\">\n",
    "6. **For each cortical surface label/sulcus, compute**:\n",
    "    - **area**\n",
    "    - **mean coordinates** (in native and in MNI152 space)\n",
    "    - **Zernike moments**\n",
    "    - **Laplace-Beltrami spectrum** (2nd, 3rd, and 9th spectral components shown for two brains)\n",
    "<img style=\"padding-right:10px; width:600px;\" src=\"https://mfr.osf.io/export?url=https://osf.io/zhbvy/?action=download%26direct%26mode=render&initialWidth=673&childId=mfrIframe&format=1200x1200.jpeg\">  \n",
    "7. **Compute statistics for each shape measure across vertices for each label/feature**:\n",
    "    - median\n",
    "    - median absolute deviation\n",
    "    - mean\n",
    "    - standard deviation\n",
    "    - skew\n",
    "    - kurtosis\n",
    "    - lower and upper quartiles"
   ]
  },
  {
   "cell_type": "markdown",
   "metadata": {
    "deletable": true,
    "editable": true
   },
   "source": [
    "<a id=\"help\"></a>\n",
    "\n",
    "## Run \"mindboggle --help\" on the command line\n",
    "\n",
    "First, let's see what command-line options Mindboggle provides:"
   ]
  },
  {
   "cell_type": "code",
   "execution_count": null,
   "metadata": {
    "collapsed": true,
    "deletable": true,
    "editable": true
   },
   "outputs": [],
   "source": [
    "! mindboggle --help"
   ]
  },
  {
   "cell_type": "markdown",
   "metadata": {
    "deletable": true,
    "editable": true
   },
   "source": [
    "<a id=\"command\"></a>\n",
    "\n",
    "## Run \"mindboggle\" command with example data\n",
    "\n",
    "In the following example, we will run Mindboggle on FreeSurfer (but not ANTs) data to get shape measures such as curvature, depth, and area for cortical surface labels, and to make it quick, we will turn off volume labels and volume shape measures, sulci, and surface-based Zernike moments and Laplace-Beltrami spectra."
   ]
  },
  {
   "cell_type": "code",
   "execution_count": null,
   "metadata": {
    "collapsed": false,
    "deletable": true,
    "editable": true
   },
   "outputs": [],
   "source": [
    "%%bash\n",
    "HOST=/root/data/Users/arno;\n",
    "FREESURFER_SUBJECT=$HOST/mindboggle_input_example/freesurfer/subjects/arno;\n",
    "ANTS_SUBJECT=$HOST/mindboggle_input_example/ants/subjects/arno;\n",
    "MINDBOGGLING=$HOST/mindboggling;\n",
    "MINDBOGGLED=$HOST/mindboggled;\n",
    "\n",
    "mindboggle $FREESURFER_SUBJECT --working $MINDBOGGLING --out $MINDBOGGLED \\\n",
    "           --no_volumes --no_sulci --no_points --no_moments --no_spectra"
   ]
  },
  {
   "cell_type": "markdown",
   "metadata": {
    "deletable": true,
    "editable": true
   },
   "source": [
    "<a id=\"library\"></a>\n",
    "\n",
    "## Mindboggle Python library\n",
    "\n",
    "Rather than call Mindboggle from the command line, we can also call individual Python functions within the Mindboggle library, which includes the following files:\n",
    "\n",
    "  - mindboggle/mindboggle/\n",
    "    - **mio**/  *-- input/output functions*\n",
    "        - **[colors](https://github.com/nipy/mindboggle/blob/master/mindboggle/mio/colors.py)**.py  *-- colormap-related functions*\n",
    "        - **[convert_volumes](https://github.com/nipy/mindboggle/blob/master/mindboggle/mio/convert_volumes.py)**.py  *-- read/write nifti volume files*\n",
    "        - **[fetch_data](https://github.com/nipy/mindboggle/blob/master/mindboggle/mio/fetch_data.py)**.py  *-- fetch data from a URL or from third party software*\n",
    "        - **[labels](https://github.com/nipy/mindboggle/blob/master/mindboggle/mio/labels.py)**.py  *-- information about labeling protocols*\n",
    "        - **[plots](https://github.com/nipy/mindboggle/blob/master/mindboggle/mio/plots.py)**.py  *-- plot functions*\n",
    "        - **[tables](https://github.com/nipy/mindboggle/blob/master/mindboggle/mio/tables.py)**.py  *-- read/write tables*\n",
    "        - **[vtks](https://github.com/nipy/mindboggle/blob/master/mindboggle/mio/vtks.py)**.py  *-- read/write VTK surface files*\n",
    "    - **guts**/  *-- the \"guts\" underlying feature extraction and labeling code*\n",
    "        - **[compute](https://github.com/nipy/mindboggle/blob/master/mindboggle/guts/compute.py)**.py  *-- compute distances, etc.*\n",
    "        - **[graph](https://github.com/nipy/mindboggle/blob/master/mindboggle/guts/graph.py)**.py  *-- graph operations*\n",
    "        - **[kernels](https://github.com/nipy/mindboggle/blob/master/mindboggle/guts/kernels.py)**.py  *-- kernels for graph operations*\n",
    "        - **[mesh](https://github.com/nipy/mindboggle/blob/master/mindboggle/guts/mesh.py)**.py  *-- operate on surface mesh vertices*\n",
    "        - **[paths](https://github.com/nipy/mindboggle/blob/master/mindboggle/guts/paths.py)**.py  *-- connect surface mesh vertices*\n",
    "        - **[rebound](https://github.com/nipy/mindboggle/blob/master/mindboggle/guts/rebound.py)**.py  *-- adjust label borders on a surface mesh*\n",
    "        - **[relabel](https://github.com/nipy/mindboggle/blob/master/mindboggle/guts/relabel.py)**.py  *-- relabel surface or volume files*\n",
    "        - **[segment](https://github.com/nipy/mindboggle/blob/master/mindboggle/guts/segment.py)**.py  *-- segment a surface mesh*\n",
    "    - **features**/  *-- higher-level feature extraction (folds, fundi, sulci)*\n",
    "        - **[folds](https://github.com/nipy/mindboggle/blob/master/mindboggle/features/folds.py)**.py  *-- extract surface folds*\n",
    "        - **[fundi](https://github.com/nipy/mindboggle/blob/master/mindboggle/features/fundi.py)**.py  *-- extract fundus curves from folds*\n",
    "        - **[sulci](https://github.com/nipy/mindboggle/blob/master/mindboggle/features/sulci.py)**.py  *-- extract sulci from folds*\n",
    "    - **shapes**/  *-- shape measurement functions\n",
    "        - **[surface_shapes](https://github.com/nipy/mindboggle/blob/master/mindboggle/shapes/surface_shapes.py)**.py  *-- compute surface shapes (calls C++ library below)*\n",
    "        - **[volume_shapes](https://github.com/nipy/mindboggle/blob/master/mindboggle/shapes/volume_shapes.py)**.py  *-- compute volumes and thicknesses*\n",
    "        - **[laplace_beltrami](https://github.com/nipy/mindboggle/blob/master/mindboggle/shapes/laplace_beltrami.py)**.py  *-- compute a Laplace-Beltrami spectrum*\n",
    "        - **[zernike/zernike](https://github.com/nipy/mindboggle/blob/master/mindboggle/shapes/zernike/zernike.py)**.py  *-- compute Zernike moments of a collection of vertices*\n",
    "        - **[likelihood](https://github.com/nipy/mindboggle/blob/master/mindboggle/shapes/likelihood.py)**.py  *-- compute (fundus) likelihood values*\n",
    "    - **thirdparty/**  *-- third-party code*\n",
    "        - **[ants](https://github.com/nipy/mindboggle/blob/master/mindboggle/thirdparty/ants.py)**.py  *-- call ANTs commands*\n",
    "        - **[vtkviewer](https://github.com/nipy/mindboggle/blob/master/mindboggle/thirdparty/vtkviewer.py)**.py  *-- VTK viewer (by Hal Canary)*\n",
    "\n",
    "  - mindboggle/vtk_cpp_tools  *-- C++ tools for measuring shapes on VTK surface files*\n",
    "    - **[area](https://github.com/nipy/mindboggle/blob/master/vtk_cpp_tools/area/PointAreaMain.cpp)**/\n",
    "    - **[curvature](https://github.com/nipy/mindboggle/blob/master/vtk_cpp_tools/curvature/CurvatureMain.cpp)**/\n",
    "    - **[geodesic_depth](https://github.com/nipy/mindboggle/blob/master/vtk_cpp_tools/geodesic_depth/GeodesicDepthMain.cpp)**/\n",
    "    - **[travel_depth](https://github.com/nipy/mindboggle/tree/master/vtk_cpp_tools/travel_depth)**/\n",
    "    - **[gradient](https://github.com/nipy/mindboggle/blob/master/vtk_cpp_tools/gradient/GradientMain.cpp)**/\n",
    "    - **[surface_overlap](https://github.com/nipy/mindboggle/blob/master/vtk_cpp_tools/surface_overlap/SurfaceOverlapMain.cpp)**/"
   ]
  },
  {
   "cell_type": "markdown",
   "metadata": {
    "collapsed": true,
    "deletable": true,
    "editable": true
   },
   "source": [
    "<a id=\"functions\"></a>\n",
    "\n",
    "## Run individual functions\n",
    "\n",
    "Let's run some functions within Mindboggle's Python library.  The following examples are excerpts from the above files' docstrings."
   ]
  },
  {
   "cell_type": "markdown",
   "metadata": {},
   "source": [
    "<a id=\"example1\"></a>\n",
    "### Example 1:  Compute histogram values from a nibabel-readable image.\n",
    "\n",
    "**[compute_image_histogram](https://github.com/nipy/mindboggle/blob/master/mindboggle/guts/compute.py#L1088)** (infile, nbins=100, threshold=0.0)\n",
    "\n",
    "    Parameters\n",
    "    ----------\n",
    "    infile : string\n",
    "        input nibabel-readable image file name\n",
    "    nbins : integer\n",
    "        number of bins\n",
    "    threshold : float\n",
    "        remove values lower than threshold\n",
    "\n",
    "    Returns\n",
    "    -------\n",
    "    histogram_values : numpy array\n",
    "        histogram bin values"
   ]
  },
  {
   "cell_type": "code",
   "execution_count": 1,
   "metadata": {
    "collapsed": false,
    "deletable": true,
    "editable": true
   },
   "outputs": [
    {
     "ename": "ImportError",
     "evalue": "No module named 'mindboggle'",
     "output_type": "error",
     "traceback": [
      "\u001b[0;31m---------------------------------------------------------------------------\u001b[0m",
      "\u001b[0;31mImportError\u001b[0m                               Traceback (most recent call last)",
      "\u001b[0;32m<ipython-input-1-e94cee8960fb>\u001b[0m in \u001b[0;36m<module>\u001b[0;34m()\u001b[0m\n\u001b[1;32m      1\u001b[0m \u001b[0;31m# Compute histogram values from nibabel-readable image:\u001b[0m\u001b[0;34m\u001b[0m\u001b[0;34m\u001b[0m\u001b[0m\n\u001b[0;32m----> 2\u001b[0;31m \u001b[0;32mfrom\u001b[0m \u001b[0mmindboggle\u001b[0m\u001b[0;34m.\u001b[0m\u001b[0mguts\u001b[0m\u001b[0;34m.\u001b[0m\u001b[0mcompute\u001b[0m \u001b[0;32mimport\u001b[0m \u001b[0mcompute_image_histogram\u001b[0m\u001b[0;34m\u001b[0m\u001b[0m\n\u001b[0m\u001b[1;32m      3\u001b[0m \u001b[0;32mfrom\u001b[0m \u001b[0mmindboggle\u001b[0m\u001b[0;34m.\u001b[0m\u001b[0mmio\u001b[0m\u001b[0;34m.\u001b[0m\u001b[0mfetch_data\u001b[0m \u001b[0;32mimport\u001b[0m \u001b[0mprep_tests\u001b[0m\u001b[0;34m\u001b[0m\u001b[0m\n\u001b[1;32m      4\u001b[0m \u001b[0murls\u001b[0m\u001b[0;34m,\u001b[0m \u001b[0mfetch_data\u001b[0m \u001b[0;34m=\u001b[0m \u001b[0mprep_tests\u001b[0m\u001b[0;34m(\u001b[0m\u001b[0;34m)\u001b[0m\u001b[0;34m\u001b[0m\u001b[0m\n\u001b[1;32m      5\u001b[0m \u001b[0mlabels_file\u001b[0m \u001b[0;34m=\u001b[0m \u001b[0mfetch_data\u001b[0m\u001b[0;34m(\u001b[0m\u001b[0murls\u001b[0m\u001b[0;34m[\u001b[0m\u001b[0;34m'freesurfer_labels'\u001b[0m\u001b[0;34m]\u001b[0m\u001b[0;34m,\u001b[0m \u001b[0;34m''\u001b[0m\u001b[0;34m,\u001b[0m \u001b[0;34m'.nii.gz'\u001b[0m\u001b[0;34m)\u001b[0m\u001b[0;34m\u001b[0m\u001b[0m\n",
      "\u001b[0;31mImportError\u001b[0m: No module named 'mindboggle'"
     ]
    }
   ],
   "source": [
    "from mindboggle.guts.compute import compute_image_histogram\n",
    "from mindboggle.mio.fetch_data import prep_tests\n",
    "urls, fetch_data = prep_tests()\n",
    "labels_file = fetch_data(urls['OASIS-30_Atropos_template'], '', '.nii.gz')\n",
    "nbins = 100\n",
    "threshold = 0.5\n",
    "histogram_values = compute_image_histogram(labels_file, nbins, threshold)\n",
    "histogram_values"
   ]
  },
  {
   "cell_type": "markdown",
   "metadata": {},
   "source": [
    "Plot histograms:"
   ]
  },
  {
   "cell_type": "code",
   "execution_count": null,
   "metadata": {
    "collapsed": true
   },
   "outputs": [],
   "source": [
    "from mindboggle.mio.plots import histograms_of_lists\n",
    "columns = [histogram_values]\n",
    "column_name = 'OASIS-30_Atropos_template grayscale values'\n",
    "ignore_columns = []\n",
    "nbins = 100\n",
    "axis_limits = []\n",
    "titles = ['OASIS-30_Atropos_template grayscale values']\n",
    "histograms_of_lists(columns, column_name, ignore_columns, nbins, axis_limits, titles)"
   ]
  },
  {
   "cell_type": "markdown",
   "metadata": {
    "deletable": true,
    "editable": true
   },
   "source": [
    "<a id=\"example2\"></a>\n",
    "### Example 2:  Compute statistical measures across vertices per label.\n",
    "\n",
    "**[stats_per_label](https://github.com/nipy/mindboggle/blob/master/mindboggle/guts/compute.py#L716)** (values, labels, include_labels=[], exclude_labels=[], weights=[], precision=1)\n",
    "\n",
    "    When computing statistical measures across vertices per label, \n",
    "    you can optionally use weights (such as surface area per vertex),\n",
    "    to compute, for example, a surface area-weighted mean:\n",
    "\n",
    "    average value = sum(a_i * v_i) / total_surface_area,\n",
    "    where *a_i* and *v_i* are the area and value for each vertex *i*.\n",
    "\n",
    "    Reference:\n",
    "        Weighted skewness and kurtosis unbiased by sample size\n",
    "        Lorenzo Rimoldini, arXiv:1304.6564 (2013)\n",
    "        http://arxiv.org/abs/1304.6564\n",
    "\n",
    "    Parameters\n",
    "    ----------\n",
    "    values : numpy array of individual or lists of integers or floats\n",
    "        values for all vertices\n",
    "    labels : list or array of integers\n",
    "        label for each value\n",
    "    include_labels : list of integers\n",
    "        labels to include\n",
    "    exclude_labels : list of integers\n",
    "        labels to be excluded\n",
    "    weights : numpy array of floats\n",
    "        weights to compute weighted statistical measures\n",
    "    precision : integer\n",
    "        number of decimal places to consider weights\n",
    "\n",
    "    Returns\n",
    "    -------\n",
    "    medians : list of floats\n",
    "        median for each label\n",
    "    mads : list of floats\n",
    "        median absolute deviation for each label\n",
    "    means : list of floats\n",
    "        mean for each label\n",
    "    sdevs : list of floats\n",
    "        standard deviation for each label\n",
    "    skews : list of floats\n",
    "        skew for each label\n",
    "    kurts : list of floats\n",
    "        kurtosis value for each label\n",
    "    lower_quarts : list of floats\n",
    "        lower quartile for each label\n",
    "    upper_quarts : list of floats\n",
    "        upper quartile for each label\n",
    "    label_list : list of integers\n",
    "        list of unique labels"
   ]
  },
  {
   "cell_type": "code",
   "execution_count": null,
   "metadata": {
    "collapsed": false,
    "deletable": true,
    "editable": true
   },
   "outputs": [],
   "source": [
    "from IPython.core.interactiveshell import InteractiveShell\n",
    "InteractiveShell.ast_node_interactivity = \"all\"\n",
    "\n",
    "import numpy as np\n",
    "from mindboggle.mio.vtks import read_scalars\n",
    "from mindboggle.guts.compute import stats_per_label\n",
    "from mindboggle.mio.fetch_data import prep_tests\n",
    "urls, fetch_data = prep_tests()\n",
    "values_file = fetch_data(urls['left_mean_curvature'], '', '.vtk')\n",
    "labels_file = fetch_data(urls['left_freesurfer_labels'], '', '.vtk')\n",
    "area_file = fetch_data(urls['left_area'], '', '.vtk')\n",
    "values, name = read_scalars(values_file, True, True)\n",
    "areas, name = read_scalars(area_file, True, True)\n",
    "labels, name = read_scalars(labels_file)\n",
    "include_labels = []\n",
    "exclude_labels = [-1]\n",
    "weights = areas\n",
    "precision = 1\n",
    "medians, mads, means, sdevs, skews, kurts, lower_quarts, upper_quarts, label_list = stats_per_label(values, labels, include_labels, exclude_labels, weights, precision)\n",
    "[np.float(\"{0}:.{1}f {2}:.{1}f {3}:.{1}f {4}:.{1}f\".format(medians[i], 5, mads[i], means[i], kurts[i]) for i in range(len(mads))]"
   ]
  },
  {
   "cell_type": "markdown",
   "metadata": {
    "collapsed": true,
    "deletable": true,
    "editable": true
   },
   "source": [
    "<a id=\"example3\"></a>\n",
    "### Example 3:  Decimate a left postcentral pial surface.\n",
    "\n",
    "**[stats_per_label](https://github.com/nipy/mindboggle/blob/master/mindboggle/guts/mesh.py#L750)** (points, faces, reduction=0.75, smooth_steps=25, scalars=[], save_vtk=False, output_vtk='')\n",
    "\n",
    "    Decimate vtk triangular mesh with vtk.vtkDecimatePro.\n",
    "\n",
    "    Parameters\n",
    "    ----------\n",
    "    points : list of lists of floats\n",
    "        each element is a list of 3-D coordinates of a vertex on a surface mesh\n",
    "    faces : list of lists of integers\n",
    "        each element is list of 3 indices of vertices that form a face\n",
    "        on a surface mesh\n",
    "    reduction : float\n",
    "        fraction of mesh faces to remove\n",
    "    smooth_steps : integer\n",
    "        number of smoothing steps\n",
    "    scalars : list of integers or floats\n",
    "        optional scalars for output VTK file\n",
    "    save_vtk : bool\n",
    "        output decimated vtk file?\n",
    "    output_vtk : string\n",
    "        output decimated vtk file name\n",
    "\n",
    "    Returns\n",
    "    -------\n",
    "    points : list of lists of floats\n",
    "        decimated points\n",
    "    faces : list of lists of integers\n",
    "        decimated faces\n",
    "    scalars : list of integers or floats\n",
    "        scalars for output VTK file\n",
    "    output_vtk : string\n",
    "        output decimated vtk file"
   ]
  },
  {
   "cell_type": "code",
   "execution_count": null,
   "metadata": {
    "collapsed": true
   },
   "outputs": [],
   "source": [
    "from mindboggle.guts.mesh import decimate\n",
    "from mindboggle.mio.vtks import read_vtk\n",
    "from mindboggle.mio.fetch_data import prep_tests\n",
    "urls, fetch_data = prep_tests()\n",
    "input_vtk = fetch_data(urls['left_freesurfer_labels'], '', '.vtk')\n",
    "points, f1, f2, faces, scalars, f3, f4, f5 = read_vtk(input_vtk)\n",
    "reduction = 0.5\n",
    "smooth_steps = 25\n",
    "save_vtk = True\n",
    "output_vtk = 'decimate.vtk'\n",
    "points2, faces2, scalars, output_vtk = decimate(points, faces, reduction, smooth_steps, scalars, save_vtk, output_vtk)\n",
    "(len(points), len(points2))\n",
    "(len(faces), len(faces2))"
   ]
  },
  {
   "cell_type": "markdown",
   "metadata": {},
   "source": [
    "View the decimated surface:"
   ]
  },
  {
   "cell_type": "code",
   "execution_count": null,
   "metadata": {
    "collapsed": true
   },
   "outputs": [],
   "source": [
    "from mindboggle.mio.plots import plot_surfaces\n",
    "plot_surfaces('decimate.vtk')"
   ]
  },
  {
   "cell_type": "markdown",
   "metadata": {},
   "source": [
    "<a id=\"example4\"></a>\n",
    "### Example 4:  Relabel a VTK surface.\n",
    "\n",
    "**[relabel_surface](https://github.com/nipy/mindboggle/blob/master/mindboggle/guts/relabel.py#L300)** (vtk_file, hemi='', old_labels=[], new_labels=[], erase_remaining=True, erase_labels=[], erase_value=-1, output_file='')\n",
    "\n",
    "    Parameters\n",
    "    ----------\n",
    "    vtk_file : string\n",
    "         input labeled VTK file\n",
    "    hemi : string\n",
    "        hemisphere ('lh' or 'rh' or '')\n",
    "        if set, add 1000 to left and 2000 to right hemisphere labels;\n",
    "    old_labels : list of integers\n",
    "        old labels (empty list if labels drawn from vtk scalars);\n",
    "        may be used in conjunction with hemi\n",
    "    new_labels : list of integers\n",
    "        new labels (empty list if labels drawn from vtk scalars);\n",
    "        may be used in conjunction with hemi\n",
    "    erase_remaining : bool\n",
    "        set all values not in old_labels to erase_value?\n",
    "    erase_labels : list of integers\n",
    "        values to erase (set to erase_value)\n",
    "    erase_value : integer\n",
    "        set vertices with labels in erase_labels to this value\n",
    "    output_file : string\n",
    "        new vtk file name\n",
    "\n",
    "    Returns\n",
    "    -------\n",
    "    output_file : string\n",
    "        new vtk file name"
   ]
  },
  {
   "cell_type": "code",
   "execution_count": null,
   "metadata": {
    "collapsed": true
   },
   "outputs": [],
   "source": [
    "import numpy as np\n",
    "from mindboggle.guts.relabel import relabel_surface\n",
    "from mindboggle.mio.vtks import read_scalars\n",
    "from mindboggle.mio.fetch_data import prep_tests\n",
    "urls, fetch_data = prep_tests()\n",
    "vtk_file = fetch_data(urls['left_freesurfer_labels'], '', '.vtk')\n",
    "hemi = 'lh'\n",
    "old_labels = [1003,1009,1030]\n",
    "new_labels = [0,500,1000]\n",
    "erase_remaining = True\n",
    "erase_labels = [0]\n",
    "erase_value = -1\n",
    "output_file = 'relabel_surface.vtk'\n",
    "output_file = relabel_surface(vtk_file, hemi, old_labels, new_labels,\n",
    "    ...     erase_remaining, erase_labels, erase_value, output_file)\n",
    "labels, name = read_scalars(output_file, True, True)\n",
    "np.unique(labels)"
   ]
  },
  {
   "cell_type": "markdown",
   "metadata": {},
   "source": [
    "View relabeled surface file:"
   ]
  },
  {
   "cell_type": "code",
   "execution_count": null,
   "metadata": {
    "collapsed": true
   },
   "outputs": [],
   "source": [
    "from mindboggle.mio.plots import plot_surfaces\n",
    "plot_surfaces(output_file)"
   ]
  },
  {
   "cell_type": "markdown",
   "metadata": {},
   "source": [
    "<a id=\"example5\"></a>\n",
    "### Example 5:  Segment deep vertices of surface into contiguous regions.\n",
    "\n",
    "**[segment_regions](https://github.com/nipy/mindboggle/blob/master/mindboggle/guts/segment.py#L181)** (vertices_to_segment, neighbor_lists, min_region_size=1, seed_lists=[], keep_seeding=False, spread_within_labels=False, labels=[], label_lists=[], values=[], max_steps='', background_value=-1, verbose=False)\n",
    "\n",
    "    Parameters\n",
    "    ----------\n",
    "    vertices_to_segment : list of integers\n",
    "        indices to mesh vertices to be segmented\n",
    "    neighbor_lists : list of lists of integers\n",
    "        each list contains indices to neighboring vertices for each vertex\n",
    "    min_region_size : integer\n",
    "        minimum size of segmented set of vertices\n",
    "    seed_lists : list of lists, or empty list\n",
    "        each list contains indices to seed vertices to segment vertices_to_segment\n",
    "    keep_seeding : bool\n",
    "        grow from new seeds even after all seed lists have fully grown\n",
    "    spread_within_labels : bool\n",
    "        grow seeds only by vertices with labels in the seed labels?\n",
    "    labels : list of integers (required only if spread_within_labels)\n",
    "        label numbers for all vertices\n",
    "    label_lists : list of lists of integers (required only if spread_within_labels)\n",
    "        List of unique labels for each seed list to grow into\n",
    "        (If empty, set to unique labels for each seed list)\n",
    "    values : list of floats (default empty)\n",
    "        values for all vertices for use in preferentially directed segmentation\n",
    "        (segment in direction of lower values)\n",
    "    max_steps : integer (or empty string for infinity)\n",
    "        maximum number of segmentation steps to take for each seed list\n",
    "    background_value : integer or float\n",
    "        background value\n",
    "    verbose : bool\n",
    "        print statements?\n",
    "\n",
    "    Returns\n",
    "    -------\n",
    "    segments : numpy array of integers\n",
    "        region numbers for all vertices"
   ]
  },
  {
   "cell_type": "code",
   "execution_count": null,
   "metadata": {
    "collapsed": true
   },
   "outputs": [],
   "source": [
    "# Example without seed lists:\n",
    "import numpy as np\n",
    "from mindboggle.guts.segment import segment_regions\n",
    "from mindboggle.mio.vtks import read_vtk\n",
    "from mindboggle.guts.mesh import find_neighbors\n",
    "from mindboggle.mio.fetch_data import prep_tests\n",
    "background_value = -1\n",
    "urls, fetch_data = prep_tests()\n",
    "depth_file = fetch_data(urls['left_travel_depth'], '', '.vtk')\n",
    "f1,f2,f3, faces, depths, f4, npoints, t5 = read_vtk(depth_file, True, True)\n",
    "vertices_to_segment = np.where(depths > 0.50)[0].tolist()  # (sped up)\n",
    "neighbor_lists = find_neighbors(faces, npoints)\n",
    "segments = segment_regions(vertices_to_segment, neighbor_lists)\n",
    "len_segments = [len(np.where(segments == x)[0]) for x in np.unique(segments) if x != background_value]\n",
    "len_segments[0:10]"
   ]
  },
  {
   "cell_type": "markdown",
   "metadata": {},
   "source": [
    "Write results to vtk file and view:"
   ]
  },
  {
   "cell_type": "code",
   "execution_count": null,
   "metadata": {
    "collapsed": true
   },
   "outputs": [],
   "source": [
    "from mindboggle.mio.plots import plot_surfaces\n",
    "from mindboggle.mio.vtks import rewrite_scalars\n",
    "rewrite_scalars(depth_file, 'segment_regions_no_seeds.vtk', segments, 'segments', [], -1)\n",
    "plot_surfaces('segment_regions_no_seeds.vtk')"
   ]
  },
  {
   "cell_type": "markdown",
   "metadata": {},
   "source": [
    "<a id=\"example6\"></a>\n",
    "### Example 6:  Extract sulcus label borders.\n",
    "\n",
    "**[extract_borders](https://github.com/nipy/mindboggle/blob/master/mindboggle/guts/segment.py#L1445)** \n",
    "                    (indices, labels, neighbor_lists,\n",
    "                    ignore_values=[], return_label_pairs=False)\n",
    "\n",
    "    Label borders are the set of all vertices\n",
    "    whose neighbors do not share the same label.\n",
    "\n",
    "    Parameters\n",
    "    ----------\n",
    "    indices : list of integers\n",
    "        indices to (a subset of) vertices\n",
    "    labels : numpy array of integers\n",
    "        label numbers for all vertices\n",
    "    neighbor_lists : list of lists of integers\n",
    "        each list contains indices to neighboring vertices for each vertex\n",
    "    ignore_values : list of integers\n",
    "        integers to ignore (e.g., background)\n",
    "    return_label_pairs : bool\n",
    "        return label pairs?\n",
    "\n",
    "    Returns\n",
    "    -------\n",
    "    border_indices : list of integers\n",
    "        indices to label boundary vertices\n",
    "    border_label_tuples : list of lists of sorted pairs of integers\n",
    "        sorted label pairs\n",
    "    unique_border_label_tuples : list of sorted pairs of integers\n",
    "        unique, sorted label pairs"
   ]
  },
  {
   "cell_type": "code",
   "execution_count": null,
   "metadata": {
    "collapsed": true
   },
   "outputs": [],
   "source": [
    "from mindboggle.guts.segment import extract_borders\n",
    "import numpy as np\n",
    "from mindboggle.guts.mesh import find_neighbors\n",
    "from mindboggle.guts.segment import extract_borders\n",
    "from mindboggle.mio.vtks import read_vtk\n",
    "from mindboggle.mio.fetch_data import prep_tests\n",
    "urls, fetch_data = prep_tests()\n",
    "label_file = fetch_data(urls['left_freesurfer_labels'], '', '.vtk')\n",
    "f1,f2,f3, faces, labels, f4, npoints, f5 = read_vtk(label_file, True, True)\n",
    "neighbor_lists = find_neighbors(faces, npoints)\n",
    "ignore_values = []\n",
    "return_label_pairs = True\n",
    "indices_borders, label_pairs, f1 = extract_borders(list(range(npoints)), labels, neighbor_lists, ignore_values, return_label_pairs)\n",
    "indices_borders[0:10]\n",
    "label_pairs[0:5]"
   ]
  },
  {
   "cell_type": "markdown",
   "metadata": {},
   "source": [
    "Write borders on surfaces to vtk file and view:"
   ]
  },
  {
   "cell_type": "code",
   "execution_count": null,
   "metadata": {
    "collapsed": true
   },
   "outputs": [],
   "source": [
    "from mindboggle.mio.plots import plot_surfaces\n",
    "from mindboggle.mio.vtks import rewrite_scalars\n",
    "IDs = -1 * np.ones(npoints)\n",
    "IDs[indices_borders] = 1\n",
    "rewrite_scalars(label_file, 'extract_borders.vtk', IDs, 'borders')\n",
    "plot_surfaces('extract_borders.vtk')"
   ]
  },
  {
   "cell_type": "markdown",
   "metadata": {},
   "source": [
    "Write just the borders to vtk file and view:"
   ]
  },
  {
   "cell_type": "code",
   "execution_count": null,
   "metadata": {
    "collapsed": true
   },
   "outputs": [],
   "source": [
    "rewrite_scalars(label_file, 'extract_borders_no_background.vtk', IDs, 'borders', IDs)\n",
    "plot_surfaces('extract_borders_no_background.vtk')"
   ]
  }
 ],
 "metadata": {
  "anaconda-cloud": {},
  "celltoolbar": "Raw Cell Format",
  "kernelspec": {
   "display_name": "Python [default]",
   "language": "python",
   "name": "python3"
  },
  "language_info": {
   "codemirror_mode": {
    "name": "ipython",
    "version": 3
   },
   "file_extension": ".py",
   "mimetype": "text/x-python",
   "name": "python",
   "nbconvert_exporter": "python",
   "pygments_lexer": "ipython3",
   "version": "3.5.2"
  }
 },
 "nbformat": 4,
 "nbformat_minor": 0
}
