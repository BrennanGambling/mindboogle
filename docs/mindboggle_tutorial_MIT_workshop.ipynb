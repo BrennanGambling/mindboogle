{
 "cells": [
  {
   "cell_type": "markdown",
   "metadata": {
    "deletable": true,
    "editable": true
   },
   "source": [
    "## Update the Docker file\n",
    "\n",
    "Create a new file called Docker.mindboggle.new\n",
    "\n",
    "```\n",
    "FROM nipype/workshops:latest-complete\n",
    "WORKDIR /home/jovyan/work\n",
    "RUN conda install -y flask\n",
    "RUN git clone https://github.com/nipy/mindboggle && cd mindboggle && python setup.py install\n",
    "RUN git clone https://github.com/akeshavan/roygbiv && cd roygbiv && python setup.py install\n",
    "RUN git clone https://github.com/akeshavan/nbpapaya && cd nbpapaya && git submodule update --init --recursive && python setup.py install\n",
    "RUN mkdir data && cd data && curl -sSL https://osf.io/svxht/?action=download  | tar xzf - -C /data --strip-components=2\n",
    "\n",
    "```\n",
    "\n",
    "### Build the docker\n",
    "\n",
    "```\n",
    "docker build -t nipypeshop_plus -f Docker.mindboggle.new .\n",
    "```\n",
    "\n",
    "### Start the docker\n",
    "\n",
    "```\n",
    "cd /path/to/workshop/\n",
    "docker run -ti -v $PWD:/home/jovyan/work -p 9876:8888 -p 5000:5000 nipypeshop_plus bash\n",
    "```\n",
    "\n",
    "## Datalad\n",
    "\n",
    "If you don't have the raw data downloaded, and want to run mindboggle, do the following:\n",
    "\n",
    "```\n",
    "cd /home/jovyan/work/data/ds000114\n",
    "git remote add datasets http://datasets.datalad.org/workshops/nipype-2017/ds000114/.git\n",
    "datalad get . \n",
    "```\n",
    "\n",
    "## Try running the roygbiv webapp\n",
    "\n",
    "```\n",
    "cd ~/work\n",
    "roygbiv $PWD/data/mindboggled/sub-02\n",
    "\n",
    "```\n",
    "\n",
    "on your **chrome** browser, navigate to `localhost:5000`\n",
    "\n",
    "## View this notebook in a browser\n",
    "\n",
    "### Clone mindboggle directory\n",
    "\n",
    "```\n",
    "cd ~/work\n",
    "git clone https://github.com/nipy/mindboggle\n",
    "```\n",
    "\n",
    "### Change directory to mindboggle/docs and start the notebook\n",
    "\n",
    "```\n",
    "cd mindboggle/docs\n",
    "jupyter notebook\n",
    "```\n"
   ]
  },
  {
   "cell_type": "markdown",
   "metadata": {
    "deletable": true,
    "editable": true
   },
   "source": [
    "<br><br><br><br><br><br><br><br><br>"
   ]
  },
  {
   "cell_type": "markdown",
   "metadata": {
    "deletable": true,
    "editable": true
   },
   "source": [
    "<img align=\"left\" style=\"padding-right:10px; width:150px;\" src=\"https://mfr.osf.io/export?url=https://osf.io/q7ym9/?action=download%26direct%26mode=render&initialWidth=673&childId=mfrIframe&format=1200x1200.jpeg\">\n",
    "<font size=\"1\">\n",
    "This [Mindboggle](http://mindboggle.info) tutorial is a jupyter notebook that runs in a docker container:\n",
    "<br>\n",
    "<!-->\n",
    "&nbsp;&nbsp;``$ docker run -it --rm -p 8888:8888 -p 5000:5000 -v /path/to/workshops:/home/jovyan/work nipype/workshops:latest-complete bash``<br>\n",
    "&nbsp;&nbsp;``$ git clone https://github.com/nipy/mindboggle.git; cd mindboggle; python setup.py install; cd ..;``<br>\n",
    "&nbsp;&nbsp;``$ jupyter notebook``\n",
    "<br>\n",
    "<-->\n",
    "&nbsp;&nbsp;-- <a href=\"http://binarybottle.com\">Arno Klein</a> and Anisha Keshavan (please refer to the [Mindboggle reference](http://journals.plos.org/ploscompbiol/article?id=10.1371/journal.pcbi.1005350#sec007))\n",
    "</font>"
   ]
  },
  {
   "cell_type": "markdown",
   "metadata": {
    "deletable": true,
    "editable": true
   },
   "source": [
    "# Mindboggle tutorial\n",
    "\n",
    "1. [Mindboggle processing steps](#processing)\n",
    "2. [Run \"mindboggle --help\" on the command line](#help)\n",
    "3. [Mindboggle on the command line](#command)\n",
    "4. [Mindboggle Python library](#library)\n",
    "5. [Run individual functions](#functions)"
   ]
  },
  {
   "cell_type": "markdown",
   "metadata": {
    "deletable": true,
    "editable": true
   },
   "source": [
    "<a id=\"processing\"></a>\n",
    "\n",
    "# Mindboggle processing steps\n",
    "\n",
    "<img style=\"padding-right:10px;\" src=\"https://mfr.osf.io/export?url=https://osf.io/dcuh8/?action=download%26direct%26mode=render&initialWidth=673&childId=mfrIframe&format=1200x1200.jpeg\">\n",
    "\n",
    "## Output\n",
    "Mindboggle takes in (FreeSurfer- and optionally ANTs-) preprocessed T1-weighted MRI data, and outputs nifti volumes, vtk surfaces, and csv tables containing label, feature, and shape information for further analysis:\n",
    "\n",
    "- **labels/**:  *integer-labeled vtk surfaces and nifti volumes*\n",
    "- **features/**:  *integer-labeled sulci or fundi on vtk surfaces*\n",
    "- **shapes/**:  *float shape value for every point on vtk surfaces*\n",
    "- **tables/**:  *csv tables of shape values for every label/feature/vertex*\n",
    "\n",
    "<br><br><br><br><br><br><br><br>"
   ]
  },
  {
   "cell_type": "markdown",
   "metadata": {
    "deletable": true,
    "editable": true
   },
   "source": [
    "<br>\n",
    "## Processing steps\n",
    "\n",
    "### 1. Combine FreeSurfer and ANTs gray/white segmentations:\n",
    "<br>\n",
    "<img style=\"padding-right:10px; width:600px;\" src=\"https://mfr.osf.io/export?url=https://osf.io/k5kr8/?action=download%26direct%26mode=render&initialWidth=673&childId=mfrIframe&format=1200x1200.jpeg\">\n",
    "<br>"
   ]
  },
  {
   "cell_type": "markdown",
   "metadata": {
    "deletable": true,
    "editable": true
   },
   "source": [
    "<br>\n",
    "### 2. Fill hybrid segmentation with (FreeSurfer- or ANTs-registered) labels.\n",
    "### 3. Compute volume shape measures for each labeled region:\n",
    "&nbsp;&nbsp;&nbsp;&nbsp;&nbsp;&nbsp;&nbsp;&nbsp;\n",
    "<b>volume and \"thickinthehead\" (cortical thickness)</b>\n",
    "<br>\n",
    "<img style=\"padding-right:10px; width:600px;\" src=\"https://mfr.osf.io/export?url=https://osf.io/n5hvx/?action=download%26direct%26mode=render&initialWidth=673&childId=mfrIframe&format=1200x1200.jpeg\">\n",
    "<br>"
   ]
  },
  {
   "cell_type": "markdown",
   "metadata": {
    "deletable": true,
    "editable": true
   },
   "source": [
    "<br>\n",
    "### 4. Compute surface shape measures for every cortical mesh vertex\n",
    "&nbsp;&nbsp;&nbsp;&nbsp;&nbsp;&nbsp;&nbsp;&nbsp;\n",
    "<b>surface area</b>\n",
    "<br>\n",
    "<img style=\"padding-right:10px; width:600px;\" src=\"https://mfr.osf.io/export?url=https://osf.io/6varh/?action=download%26direct%26mode=render&initialWidth=673&childId=mfrIframe&format=1200x1200.jpeg\">\n",
    "<br>"
   ]
  },
  {
   "cell_type": "markdown",
   "metadata": {
    "deletable": true,
    "editable": true
   },
   "source": [
    "<br>\n",
    "&nbsp;&nbsp;&nbsp;&nbsp;&nbsp;&nbsp;&nbsp;&nbsp;\n",
    "<b>geodesic depth and travel depth</b>\n",
    "<br>\n",
    "<img style=\"padding-right:10px; width:600px;\" src=\"https://mfr.osf.io/export?url=https://osf.io/uv9u6/?action=download%26direct%26mode=render&initialWidth=673&childId=mfrIframe&format=1200x1200.jpeg\">\n",
    "<br>"
   ]
  },
  {
   "cell_type": "markdown",
   "metadata": {
    "deletable": true,
    "editable": true
   },
   "source": [
    "<br>\n",
    "&nbsp;&nbsp;&nbsp;&nbsp;&nbsp;&nbsp;&nbsp;&nbsp;\n",
    "<b>mean curvature</b>\n",
    "<br>\n",
    "<img style=\"padding-right:10px; width:600px;\" src=\"https://mfr.osf.io/export?url=https://osf.io/v7v2u/?action=download%26direct%26mode=render&initialWidth=673&childId=mfrIframe&format=1200x1200.jpeg\">\n",
    "<br>"
   ]
  },
  {
   "cell_type": "markdown",
   "metadata": {
    "deletable": true,
    "editable": true
   },
   "source": [
    "<br>\n",
    "### 5. Extract cortical surface features:\n",
    "&nbsp;&nbsp;&nbsp;&nbsp;&nbsp;&nbsp;&nbsp;&nbsp;\n",
    "<b>folds</b> (left and upper right, with manual labels) \n",
    "<br>\n",
    "&nbsp;&nbsp;&nbsp;&nbsp;&nbsp;&nbsp;&nbsp;&nbsp;\n",
    "<b>sulci</b> (lower right)\n",
    "<br>\n",
    "<img style=\"padding-right:10px; width:600px;\" src=\"https://mfr.osf.io/export?url=https://osf.io/jq828/?action=download%26direct%26mode=render&initialWidth=673&childId=mfrIframe&format=1200x1200.jpeg\">\n",
    "\n",
    "&nbsp;&nbsp;&nbsp;&nbsp;&nbsp;&nbsp;&nbsp;&nbsp;\n",
    "<b>fundi</b> (right)\n",
    "<img style=\"padding-right:10px; width:300px;\" src=\"https://mfr.osf.io/export?url=https://osf.io/27pjt/?action=download%26direct%26mode=render&initialWidth=673&childId=mfrIframe&format=1200x1200.jpeg\">\n",
    "<br>"
   ]
  },
  {
   "cell_type": "markdown",
   "metadata": {
    "deletable": true,
    "editable": true
   },
   "source": [
    "<br>\n",
    "### 6. For each cortical surface label/sulcus, compute:\n",
    "&nbsp;&nbsp;&nbsp;&nbsp;&nbsp;&nbsp;&nbsp;&nbsp;\n",
    "<b>Zernike moments</b>\n",
    "<br>\n",
    "&nbsp;&nbsp;&nbsp;&nbsp;&nbsp;&nbsp;&nbsp;&nbsp;\n",
    "<b>Laplace-Beltrami spectrum</b> (2nd, 3rd, and 9th spectral components shown for two brains):\n",
    "<br>\n",
    "<br>\n",
    "<img style=\"padding-right:10px; width:600px;\" src=\"https://mfr.osf.io/export?url=https://osf.io/zhbvy/?action=download%26direct%26mode=render&initialWidth=673&childId=mfrIframe&format=1200x1200.jpeg\">  "
   ]
  },
  {
   "cell_type": "markdown",
   "metadata": {
    "deletable": true,
    "editable": true
   },
   "source": [
    "### 7. Compute statistics for each shape measure across vertices for each label/feature:\n",
    "    - median\n",
    "    - median absolute deviation\n",
    "    - mean\n",
    "    - standard deviation\n",
    "    - skew\n",
    "    - kurtosis\n",
    "    - lower and upper quartiles\n",
    "<br>"
   ]
  },
  {
   "cell_type": "markdown",
   "metadata": {
    "deletable": true,
    "editable": true
   },
   "source": [
    "<a id=\"help\"></a>\n",
    "\n",
    "# Run \"mindboggle --help\" on the command line\n",
    "\n",
    "First, let's see what command-line options Mindboggle provides:"
   ]
  },
  {
   "cell_type": "code",
   "execution_count": null,
   "metadata": {
    "collapsed": false,
    "deletable": true,
    "editable": true,
    "scrolled": false
   },
   "outputs": [],
   "source": [
    "! mindboggle --help"
   ]
  },
  {
   "cell_type": "markdown",
   "metadata": {
    "deletable": true,
    "editable": true
   },
   "source": [
    "<a id=\"command\"></a>\n",
    "\n",
    "# Mindboggle on the command line\n",
    "\n",
    "In the following command, computes shape measures for cortical surface labels and sulci Mindboggle takes FreeSurfer (but not ANTs) data.\n",
    "\n",
    "mindboggle /home/jovyan/work/data/ds000114/derivatives/freesurfer/sub-01 \\\n",
    "<br>&nbsp;&nbsp;&nbsp;&nbsp;\n",
    " --working /home/jovyan/work/data/mindboggling \\\n",
    "<br>&nbsp;&nbsp;&nbsp;&nbsp;\n",
    " --out /home/jovyan/work/data/mindboggled \\\n",
    "<br>&nbsp;&nbsp;&nbsp;&nbsp;\n",
    " --roygbiv\n",
    " <br><br><br>"
   ]
  },
  {
   "cell_type": "markdown",
   "metadata": {
    "deletable": true,
    "editable": true
   },
   "source": [
    "<a id=\"library\"></a>\n",
    "\n",
    "# Mindboggle Python library\n",
    "\n",
    "Rather than call Mindboggle from the command line, we can also call individual Python functions within the Mindboggle library, which includes the following files in mindboggle/mindboggle/:\n",
    "\n",
    "- **mio**/  *-- input/output functions*\n",
    "    - **[colors](https://github.com/nipy/mindboggle/blob/master/mindboggle/mio/colors.py)**.py  *-- colormap-related functions*\n",
    "    - **[convert_volumes](https://github.com/nipy/mindboggle/blob/master/mindboggle/mio/convert_volumes.py)**.py  *-- read/write nifti volume files*\n",
    "    - **[fetch_data](https://github.com/nipy/mindboggle/blob/master/mindboggle/mio/fetch_data.py)**.py  *-- fetch data from a URL or from third party software*\n",
    "    - **[labels](https://github.com/nipy/mindboggle/blob/master/mindboggle/mio/labels.py)**.py  *-- information about labeling protocols*\n",
    "    - **[plots](https://github.com/nipy/mindboggle/blob/master/mindboggle/mio/plots.py)**.py  *-- plot functions*\n",
    "    - **[tables](https://github.com/nipy/mindboggle/blob/master/mindboggle/mio/tables.py)**.py  *-- read/write tables*\n",
    "    - **[vtks](https://github.com/nipy/mindboggle/blob/master/mindboggle/mio/vtks.py)**.py  *-- read/write VTK surface files*\n",
    "- **guts**/  *-- the \"guts\" underlying feature extraction and labeling code*\n",
    "    - **[compute](https://github.com/nipy/mindboggle/blob/master/mindboggle/guts/compute.py)**.py  *-- compute distances, etc.*\n",
    "    - **[graph](https://github.com/nipy/mindboggle/blob/master/mindboggle/guts/graph.py)**.py  *-- graph operations*\n",
    "    - **[kernels](https://github.com/nipy/mindboggle/blob/master/mindboggle/guts/kernels.py)**.py  *-- kernels for graph operations*\n",
    "    - **[mesh](https://github.com/nipy/mindboggle/blob/master/mindboggle/guts/mesh.py)**.py  *-- operate on surface mesh vertices*\n",
    "    - **[paths](https://github.com/nipy/mindboggle/blob/master/mindboggle/guts/paths.py)**.py  *-- connect surface mesh vertices*\n",
    "    - **[rebound](https://github.com/nipy/mindboggle/blob/master/mindboggle/guts/rebound.py)**.py  *-- adjust label borders on a surface mesh*\n",
    "    - **[relabel](https://github.com/nipy/mindboggle/blob/master/mindboggle/guts/relabel.py)**.py  *-- relabel surface or volume files*\n",
    "    - **[segment](https://github.com/nipy/mindboggle/blob/master/mindboggle/guts/segment.py)**.py  *-- segment a surface mesh*\n",
    "- **shapes**/  *-- shape measurement functions\n",
    "    - **[surface_shapes](https://github.com/nipy/mindboggle/blob/master/mindboggle/shapes/surface_shapes.py)**.py  *-- compute surface shapes (calls C++ library below)*\n",
    "    - **[volume_shapes](https://github.com/nipy/mindboggle/blob/master/mindboggle/shapes/volume_shapes.py)**.py  *-- compute volumes and thicknesses*\n",
    "    - **[laplace_beltrami](https://github.com/nipy/mindboggle/blob/master/mindboggle/shapes/laplace_beltrami.py)**.py  *-- compute a Laplace-Beltrami spectrum*\n",
    "    - **[zernike/zernike](https://github.com/nipy/mindboggle/blob/master/mindboggle/shapes/zernike/zernike.py)**.py  *-- compute Zernike moments of a collection of vertices*\n",
    "    - **[likelihood](https://github.com/nipy/mindboggle/blob/master/mindboggle/shapes/likelihood.py)**.py  *-- compute (fundus) likelihood values*\n",
    "- **features**/  *-- higher-level feature extraction (folds, fundi, sulci)*\n",
    "    - **[folds](https://github.com/nipy/mindboggle/blob/master/mindboggle/features/folds.py)**.py  *-- extract surface folds*\n",
    "    - **[fundi](https://github.com/nipy/mindboggle/blob/master/mindboggle/features/fundi.py)**.py  *-- extract fundus curves from folds*\n",
    "    - **[sulci](https://github.com/nipy/mindboggle/blob/master/mindboggle/features/sulci.py)**.py  *-- extract sulci from folds*\n",
    "\n",
    "<!--\n",
    "    - **thirdparty/**  *-- third-party code*\n",
    "    - **[ants](https://github.com/nipy/mindboggle/blob/master/mindboggle/thirdparty/ants.py)**.py  *-- call ANTs commands*\n",
    "    - **[vtkviewer](https://github.com/nipy/mindboggle/blob/master/mindboggle/thirdparty/vtkviewer.py)**.py  *-- VTK viewer (by Hal Canary)*\n",
    "  - mindboggle/vtk_cpp_tools  *-- C++ tools for measuring shapes on VTK surface files*\n",
    "    - **[area](https://github.com/nipy/mindboggle/blob/master/vtk_cpp_tools/area/PointAreaMain.cpp)**/\n",
    "    - **[curvature](https://github.com/nipy/mindboggle/blob/master/vtk_cpp_tools/curvature/CurvatureMain.cpp)**/\n",
    "    - **[geodesic_depth](https://github.com/nipy/mindboggle/blob/master/vtk_cpp_tools/geodesic_depth/GeodesicDepthMain.cpp)**/\n",
    "    - **[travel_depth](https://github.com/nipy/mindboggle/tree/master/vtk_cpp_tools/travel_depth)**/\n",
    "    - **[gradient](https://github.com/nipy/mindboggle/blob/master/vtk_cpp_tools/gradient/GradientMain.cpp)**/\n",
    "    - **[surface_overlap](https://github.com/nipy/mindboggle/blob/master/vtk_cpp_tools/surface_overlap/SurfaceOverlapMain.cpp)**/\n",
    "-->\n",
    "<br>\n",
    "<br>"
   ]
  },
  {
   "cell_type": "markdown",
   "metadata": {
    "collapsed": true,
    "deletable": true,
    "editable": true
   },
   "source": [
    "<a id=\"functions\"></a>\n",
    "\n",
    "# Run individual functions\n",
    "\n",
    "Let's run some functions within Mindboggle's Python library.  The following examples are adapted from the above files' docstrings.\n",
    "\n",
    "## Example 1: Measure depth in a superior frontal gyrus\n",
    "### Measure travel depth for every vertex of a brain's left hemisphere\n",
    "Convert a FreeSurfer surface file to VTK format:"
   ]
  },
  {
   "cell_type": "code",
   "execution_count": 104,
   "metadata": {
    "collapsed": false,
    "deletable": true,
    "editable": true
   },
   "outputs": [],
   "source": [
    "from mindboggle.mio.vtks import freesurfer_surface_to_vtk\n",
    "subject_path = '/home/jovyan/work/data/ds000114/derivatives/freesurfer/sub-01/'\n",
    "surface_file = freesurfer_surface_to_vtk(surface_file=subject_path + 'surf/lh.pial', \n",
    "                                         orig_file=subject_path + 'mri/orig.mgz',\n",
    "                                         output_vtk='lh.pial.vtk')"
   ]
  },
  {
   "cell_type": "markdown",
   "metadata": {
    "deletable": true,
    "editable": true
   },
   "source": [
    "Compute travel_depth for every vertex of the mesh in the VTK file:"
   ]
  },
  {
   "cell_type": "code",
   "execution_count": 105,
   "metadata": {
    "collapsed": false,
    "deletable": true,
    "editable": true
   },
   "outputs": [
    {
     "name": "stdout",
     "output_type": "stream",
     "text": [
      "/opt/mindboggle/vtk_cpp_tools/travel_depth/TravelDepthMain lh.pial.vtk /home/jovyan/work/mindboggle/docs/lh.pial.travel_depth.vtk\n",
      "170330-15:19:27,4 interface INFO:\n",
      "\t stdout 2017-03-30T15:19:27.004299:Euclidean depth allocated for visible points\n",
      "170330-15:19:27,6 interface INFO:\n",
      "\t stdout 2017-03-30T15:19:27.004299:Geodesic propagation 1\n",
      "170330-15:19:28,533 interface INFO:\n",
      "\t stdout 2017-03-30T15:19:28.533030:Euclidean propagation 1\n",
      "170330-15:19:29,35 interface INFO:\n",
      "\t stdout 2017-03-30T15:19:29.035749:Geodesic propagation 2\n",
      "170330-15:19:31,73 interface INFO:\n",
      "\t stdout 2017-03-30T15:19:31.073775:Euclidean propagation 2\n",
      "170330-15:19:31,577 interface INFO:\n",
      "\t stdout 2017-03-30T15:19:31.577199:Geodesic propagation 3\n",
      "170330-15:19:33,614 interface INFO:\n",
      "\t stdout 2017-03-30T15:19:33.614722:Euclidean propagation 3\n",
      "170330-15:19:34,117 interface INFO:\n",
      "\t stdout 2017-03-30T15:19:34.116923:Geodesic propagation 4\n",
      "170330-15:19:35,643 interface INFO:\n",
      "\t stdout 2017-03-30T15:19:35.643546:Euclidean propagation 4\n",
      "170330-15:19:36,146 interface INFO:\n",
      "\t stdout 2017-03-30T15:19:36.146358:Geodesic propagation 5\n",
      "170330-15:19:38,185 interface INFO:\n",
      "\t stdout 2017-03-30T15:19:38.185267:Euclidean propagation 5\n",
      "170330-15:19:38,688 interface INFO:\n",
      "\t stdout 2017-03-30T15:19:38.688799:Geodesic propagation 6\n",
      "170330-15:19:40,728 interface INFO:\n",
      "\t stdout 2017-03-30T15:19:40.728875:Euclidean propagation 6\n",
      "170330-15:19:41,232 interface INFO:\n",
      "\t stdout 2017-03-30T15:19:41.232551:Geodesic propagation 7\n",
      "170330-15:19:43,273 interface INFO:\n",
      "\t stdout 2017-03-30T15:19:43.273044:Euclidean propagation 7\n",
      "170330-15:19:43,775 interface INFO:\n",
      "\t stdout 2017-03-30T15:19:43.775797:Travel depth main computation done\n",
      "170330-15:19:45,304 interface INFO:\n",
      "\t stdout 2017-03-30T15:19:45.303904:last propagation done\n",
      "170330-15:19:45,305 interface INFO:\n",
      "\t stdout 2017-03-30T15:19:45.303904:Travel depth computed\n",
      "170330-15:19:45,808 interface INFO:\n",
      "\t stdout 2017-03-30T15:19:45.808331:vtk file written\n",
      "170330-15:19:45,810 interface INFO:\n",
      "\t stdout 2017-03-30T15:19:45.808331:Elapsed time (meshTest): 24 s\n"
     ]
    }
   ],
   "source": [
    "import os\n",
    "from mindboggle.shapes.surface_shapes import travel_depth\n",
    "from mindboggle.mio.vtks import read_scalars\n",
    "ccode_path = '/opt/mindboggle/vtk_cpp_tools'\n",
    "command = os.path.join(ccode_path, 'travel_depth', 'TravelDepthMain')\n",
    "depth_file = travel_depth(command=command,\n",
    "                          surface_file=surface_file,\n",
    "                          verbose=True)\n",
    "depths, name = read_scalars(depth_file)"
   ]
  },
  {
   "cell_type": "markdown",
   "metadata": {
    "deletable": true,
    "editable": true
   },
   "source": [
    "Plot the depth values in 3-D:"
   ]
  },
  {
   "cell_type": "code",
   "execution_count": 106,
   "metadata": {
    "collapsed": false,
    "deletable": true,
    "editable": true
   },
   "outputs": [
    {
     "name": "stdout",
     "output_type": "stream",
     "text": [
      "doing checks /home/jovyan/.jupyter/custom/\n",
      "{'/home/jovyan/work/mindboggle/docs/lh.pial.vtk': 'papaya_data/tmpfm3v7evm.vtk'}\n",
      "/files/papaya_data/tmpfm3v7evm.vtk\n",
      "{'/home/jovyan/work/mindboggle/docs/lh.pial.vtk': {'mesh_transparency': 1, 'overlay_transparency': 1, 'threshold': 2, 'key': 'depth', 'mesh_visible': True, 'colormax': '#FF0000', 'colormin': '#0000FF', 'key_options': ['depth'], 'vmax': 10, 'filename': '/files/papaya_data/tmpfv2t5y4f.csv', 'vmin': 2}} {'/files/papaya_data/tmpfm3v7evm.vtk': {'mesh_transparency': 1, 'overlay_transparency': 1, 'threshold': 2, 'key': 'depth', 'mesh_visible': True, 'colormax': '#FF0000', 'colormin': '#0000FF', 'key_options': ['depth'], 'vmax': 10, 'filename': '/files/papaya_data/tmpfv2t5y4f.csv', 'vmin': 2}}\n"
     ]
    },
    {
     "data": {
      "text/html": [
       "\n",
       "            <script type=\"text/javascript\">\n",
       "                var nb_port = window.location.port;\n",
       "                var iframe = document.querySelector('iframe#tmpzlvxdtp3');\n",
       "                iframe.src=\"http://localhost:\" + nb_port + \"/files/papaya_data/tmpzlvxdtp3.html\";\n",
       "            </script>\n",
       "            <iframe\n",
       "            id=\"tmpzlvxdtp3\"\n",
       "            width=\"600\"\n",
       "            height=\"450\"\n",
       "            scrolling=\"no\"\n",
       "            frameBorder=\"0\">\n",
       "            </iframe>"
      ],
      "text/plain": [
       "<nbpapaya.base.Overlay at 0x7f6ac2980fd0>"
      ]
     },
     "execution_count": 106,
     "metadata": {},
     "output_type": "execute_result"
    }
   ],
   "source": [
    "import os\n",
    "import pandas as pd\n",
    "from nbpapaya import Overlay\n",
    "\n",
    "df = pd.DataFrame(depths, columns=[\"depth\"])\n",
    "df.to_csv('depths.csv', index=False)\n",
    "\n",
    "def getMeshOpts(vtk_file, csv_file, vmin, vmax, threshold):\n",
    "    cols = pd.read_csv(csv_file).columns.tolist()\n",
    "    MeshOpts = {}\n",
    "    MeshOpts[os.path.abspath(vtk_file)] = {  \n",
    "                      \"filename\": os.path.abspath(csv_file),\n",
    "                      \"colormin\": \"#0000FF\", \n",
    "                      \"colormax\": \"#FF0000\",\n",
    "                      \"vmin\": vmin,\n",
    "                      \"vmax\": vmax,\n",
    "                      \"key\": cols[0],\n",
    "                      \"key_options\": cols,    \n",
    "                      \"threshold\": threshold,\n",
    "                      \"mesh_transparency\": 1,\n",
    "                      \"mesh_visible\": True,\n",
    "                      \"overlay_transparency\": 1\n",
    "                  }\n",
    "    return MeshOpts\n",
    "\n",
    "MeshOpts = getMeshOpts(surface_file, \"depths.csv\" , 2,10,2)\n",
    "Overlay(MeshOpts)"
   ]
  },
  {
   "cell_type": "markdown",
   "metadata": {
    "deletable": true,
    "editable": true
   },
   "source": [
    "### Extract folds based on depth and curvature\n",
    "Plot a histogram of the depth values:"
   ]
  },
  {
   "cell_type": "code",
   "execution_count": 107,
   "metadata": {
    "collapsed": false,
    "deletable": true,
    "editable": true
   },
   "outputs": [
    {
     "data": {
      "image/png": "[encoded data removed]",
      "text/plain": [
       "<matplotlib.figure.Figure at 0x7f6ac9e4ae48>"
      ]
     },
     "metadata": {},
     "output_type": "display_data"
    }
   ],
   "source": [
    "from mindboggle.mio.plots import histograms_of_lists\n",
    "histograms_of_lists(columns=[depths],\n",
    "                    column_name='Depth values',\n",
    "                    ignore_columns=[],\n",
    "                    nbins=100,\n",
    "                    axis_limits=[],\n",
    "                    titles='depth values')"
   ]
  },
  {
   "cell_type": "markdown",
   "metadata": {
    "deletable": true,
    "editable": true
   },
   "source": [
    "Find a depth threshold to extract folds from the surface:"
   ]
  },
  {
   "cell_type": "code",
   "execution_count": 108,
   "metadata": {
    "collapsed": false,
    "deletable": true,
    "editable": true
   },
   "outputs": [
    {
     "name": "stdout",
     "output_type": "stream",
     "text": [
      "  Depth threshold: 1.4778676864945055\n"
     ]
    },
    {
     "data": {
      "text/plain": [
       "1.4778676864945055"
      ]
     },
     "execution_count": 108,
     "metadata": {},
     "output_type": "execute_result"
    }
   ],
   "source": [
    "from mindboggle.features.folds import find_depth_threshold\n",
    "depth_threshold, bins, bin_edges = find_depth_threshold(depth_file=depth_file,\n",
    "                                                        min_vertices=10000,\n",
    "                                                        verbose=True)\n",
    "depth_threshold"
   ]
  },
  {
   "cell_type": "markdown",
   "metadata": {
    "deletable": true,
    "editable": true
   },
   "source": [
    "Extract folds with the depth threshold:"
   ]
  },
  {
   "cell_type": "code",
   "execution_count": 109,
   "metadata": {
    "collapsed": false,
    "deletable": true,
    "editable": true
   },
   "outputs": [
    {
     "name": "stdout",
     "output_type": "stream",
     "text": [
      "Extract folds in surface mesh\n",
      "  Segment vertices deeper than 1.48 as folds\n",
      "  ...Segmented folds (2.36 seconds)\n",
      "  Remove folds smaller than 50\n",
      "  ...Extracted 10 folds (5.82 seconds)\n"
     ]
    }
   ],
   "source": [
    "from mindboggle.features.folds import extract_folds\n",
    "folds, n_folds, folds_file = extract_folds(depth_file=depth_file,\n",
    "                                           depth_threshold=depth_threshold,\n",
    "                                           min_fold_size=50,\n",
    "                                           save_file=True,\n",
    "                                           output_file='folds.vtk',\n",
    "                                           background_value=-1,\n",
    "                                           verbose=True)"
   ]
  },
  {
   "cell_type": "markdown",
   "metadata": {
    "deletable": true,
    "editable": true
   },
   "source": [
    "Remove all vertices but the folds:"
   ]
  },
  {
   "cell_type": "code",
   "execution_count": 110,
   "metadata": {
    "collapsed": false,
    "deletable": true,
    "editable": true
   },
   "outputs": [],
   "source": [
    "from mindboggle.mio.vtks import rewrite_scalars\n",
    "rewrite_scalars(input_vtk=folds_file,\n",
    "                output_vtk='rewrite_scalars.vtk',\n",
    "                new_scalars=[folds],\n",
    "                new_scalar_names=['folds'],\n",
    "                filter_scalars=folds,\n",
    "                background_value=-1)"
   ]
  },
  {
   "cell_type": "markdown",
   "metadata": {
    "deletable": true,
    "editable": true
   },
   "source": [
    "Plot the folds in 3-D:"
   ]
  },
  {
   "cell_type": "code",
   "execution_count": 111,
   "metadata": {
    "collapsed": false,
    "deletable": true,
    "editable": true,
    "scrolled": false
   },
   "outputs": [
    {
     "name": "stdout",
     "output_type": "stream",
     "text": [
      "doing checks /home/jovyan/.jupyter/custom/\n",
      "{'/home/jovyan/work/mindboggle/docs/rewrite_scalars.vtk': 'papaya_data/tmpy8ghqbvl.vtk'}\n",
      "/files/papaya_data/tmpy8ghqbvl.vtk\n",
      "{'/home/jovyan/work/mindboggle/docs/rewrite_scalars.vtk': {'mesh_transparency': 1, 'overlay_transparency': 1, 'threshold': 1, 'key': 'folds', 'mesh_visible': True, 'colormax': '#FF0000', 'colormin': '#0000FF', 'key_options': ['folds'], 'vmax': 10, 'filename': '/files/papaya_data/tmp5ra4bwp2.csv', 'vmin': 1}} {'/files/papaya_data/tmpy8ghqbvl.vtk': {'mesh_transparency': 1, 'overlay_transparency': 1, 'threshold': 1, 'key': 'folds', 'mesh_visible': True, 'colormax': '#FF0000', 'colormin': '#0000FF', 'key_options': ['folds'], 'vmax': 10, 'filename': '/files/papaya_data/tmp5ra4bwp2.csv', 'vmin': 1}}\n"
     ]
    },
    {
     "data": {
      "text/html": [
       "\n",
       "            <script type=\"text/javascript\">\n",
       "                var nb_port = window.location.port;\n",
       "                var iframe = document.querySelector('iframe#tmp14nqddti');\n",
       "                iframe.src=\"http://localhost:\" + nb_port + \"/files/papaya_data/tmp14nqddti.html\";\n",
       "            </script>\n",
       "            <iframe\n",
       "            id=\"tmp14nqddti\"\n",
       "            width=\"600\"\n",
       "            height=\"450\"\n",
       "            scrolling=\"no\"\n",
       "            frameBorder=\"0\">\n",
       "            </iframe>"
      ],
      "text/plain": [
       "<nbpapaya.base.Overlay at 0x7f6accd2f668>"
      ]
     },
     "execution_count": 111,
     "metadata": {},
     "output_type": "execute_result"
    }
   ],
   "source": [
    "just_folds = np.ones(len(folds))\n",
    "df = pd.DataFrame(just_folds, columns=[\"folds\"])\n",
    "df.to_csv('folds.csv', index=False)\n",
    "MeshOpts = getMeshOpts('rewrite_scalars.vtk', \"folds.csv\" , 1,10,1)\n",
    "Overlay(MeshOpts)"
   ]
  },
  {
   "cell_type": "markdown",
   "metadata": {
    "deletable": true,
    "editable": true
   },
   "source": [
    "Load a FreeSurfer .annot file and save as a VTK format file:"
   ]
  },
  {
   "cell_type": "code",
   "execution_count": 112,
   "metadata": {
    "collapsed": true,
    "deletable": true,
    "editable": true
   },
   "outputs": [],
   "source": [
    "from mindboggle.mio.vtks import freesurfer_annot_to_vtk\n",
    "labels, label_file = freesurfer_annot_to_vtk(annot_file=subject_path + 'label/lh.aparc.annot',\n",
    "                                             vtk_file=surface_file,\n",
    "                                             output_vtk='lh.aparc.annot.vtk',\n",
    "                                             background_value=-1)"
   ]
  },
  {
   "cell_type": "markdown",
   "metadata": {
    "deletable": true,
    "editable": true
   },
   "source": [
    "Relabel surface labels to match expected volume labels:"
   ]
  },
  {
   "cell_type": "code",
   "execution_count": 113,
   "metadata": {
    "collapsed": false,
    "deletable": true,
    "editable": true
   },
   "outputs": [],
   "source": [
    "from mindboggle.guts.relabel import relabel_surface\n",
    "from mindboggle.mio.labels import DKTprotocol\n",
    "dkt = DKTprotocol()\n",
    "relabel_file = relabel_surface(vtk_file=label_file,\n",
    "                               hemi='lh', \n",
    "                               old_labels=dkt.DKT31_numbers, \n",
    "                               new_labels=[],\n",
    "                               erase_remaining=True, \n",
    "                               erase_labels=[0], \n",
    "                               erase_value=-1, \n",
    "                               output_file='relabeled.vtk')"
   ]
  },
  {
   "cell_type": "markdown",
   "metadata": {
    "deletable": true,
    "editable": true
   },
   "source": [
    "Extract sulci from folds using pairs of labels in the DKT labeling protocol:"
   ]
  },
  {
   "cell_type": "code",
   "execution_count": null,
   "metadata": {
    "collapsed": false,
    "deletable": true,
    "editable": true,
    "scrolled": true
   },
   "outputs": [],
   "source": [
    "from mindboggle.features.sulci import extract_sulci\n",
    "sulci, n_sulci, sulci_file = extract_sulci(labels_file=relabel_file,\n",
    "                                           folds_or_file=folds,\n",
    "                                           hemi='lh',\n",
    "                                           min_boundary=10,\n",
    "                                           sulcus_names=[],\n",
    "                                           save_file=True,\n",
    "                                           output_file='sulci.vtk',\n",
    "                                           background_value=-1,\n",
    "                                           verbose=True)\n",
    "n_sulci"
   ]
  },
  {
   "cell_type": "markdown",
   "metadata": {
    "deletable": true,
    "editable": true
   },
   "source": [
    "Compute statistics on depth values for the sulci:"
   ]
  },
  {
   "cell_type": "markdown",
   "metadata": {
    "deletable": true,
    "editable": true
   },
   "source": [
    "Plot the sulci in 3-D:"
   ]
  },
  {
   "cell_type": "code",
   "execution_count": 114,
   "metadata": {
    "collapsed": false,
    "deletable": true,
    "editable": true,
    "scrolled": false
   },
   "outputs": [
    {
     "name": "stdout",
     "output_type": "stream",
     "text": [
      "doing checks /home/jovyan/.jupyter/custom/\n",
      "{'/home/jovyan/work/mindboggle/docs/sulci.vtk': 'papaya_data/tmp34l_tpws.vtk'}\n",
      "/files/papaya_data/tmp34l_tpws.vtk\n",
      "{'/home/jovyan/work/mindboggle/docs/sulci.vtk': {'mesh_transparency': 1, 'overlay_transparency': 1, 'threshold': 1, 'key': 'sulci', 'mesh_visible': True, 'colormax': '#FF0000', 'colormin': '#0000FF', 'key_options': ['sulci'], 'vmax': 10, 'filename': '/files/papaya_data/tmplgfl37v3.csv', 'vmin': 1}} {'/files/papaya_data/tmp34l_tpws.vtk': {'mesh_transparency': 1, 'overlay_transparency': 1, 'threshold': 1, 'key': 'sulci', 'mesh_visible': True, 'colormax': '#FF0000', 'colormin': '#0000FF', 'key_options': ['sulci'], 'vmax': 10, 'filename': '/files/papaya_data/tmplgfl37v3.csv', 'vmin': 1}}\n"
     ]
    },
    {
     "data": {
      "text/html": [
       "\n",
       "            <script type=\"text/javascript\">\n",
       "                var nb_port = window.location.port;\n",
       "                var iframe = document.querySelector('iframe#tmpq0lut52q');\n",
       "                iframe.src=\"http://localhost:\" + nb_port + \"/files/papaya_data/tmpq0lut52q.html\";\n",
       "            </script>\n",
       "            <iframe\n",
       "            id=\"tmpq0lut52q\"\n",
       "            width=\"600\"\n",
       "            height=\"450\"\n",
       "            scrolling=\"no\"\n",
       "            frameBorder=\"0\">\n",
       "            </iframe>"
      ],
      "text/plain": [
       "<nbpapaya.base.Overlay at 0x7f6accce0f28>"
      ]
     },
     "execution_count": 114,
     "metadata": {},
     "output_type": "execute_result"
    }
   ],
   "source": [
    "df = pd.DataFrame(sulci, columns=[\"sulci\"])\n",
    "df.to_csv('sulci.csv', index=False)\n",
    "MeshOpts = getMeshOpts('sulci.vtk', \"sulci.csv\" , 1,10,1)\n",
    "Overlay(MeshOpts)"
   ]
  },
  {
   "cell_type": "markdown",
   "metadata": {
    "deletable": true,
    "editable": true
   },
   "source": [
    "Compute statistics on sulcus area:"
   ]
  },
  {
   "cell_type": "code",
   "execution_count": 115,
   "metadata": {
    "collapsed": false,
    "deletable": true,
    "editable": true
   },
   "outputs": [
    {
     "name": "stdout",
     "output_type": "stream",
     "text": [
      "  Compute statistics on sulcus area...\n"
     ]
    }
   ],
   "source": [
    "from mindboggle.mio.tables import write_shape_stats\n",
    "label_table, sulcus_table, fundus_table = write_shape_stats(labels_or_file=[], \n",
    "    sulci=sulci, fundi=[], affine_transform_files=[], inverse_booleans=[], \n",
    "    transform_format='itk', area_file='', normalize_by_area=False, \n",
    "    mean_curvature_file='',\n",
    "    travel_depth_file=depth_file, geodesic_depth_file='',\n",
    "    freesurfer_thickness_file='', freesurfer_curvature_file='',\n",
    "    freesurfer_sulc_file='',\n",
    "    labels_spectra=[], labels_spectra_IDs=[],\n",
    "    sulci_spectra=[], sulci_spectra_IDs=[],\n",
    "    labels_zernike=[], labels_zernike_IDs=[],\n",
    "    sulci_zernike=[], sulci_zernike_IDs=[],\n",
    "    exclude_labels=[-1], verbose=True)"
   ]
  },
  {
   "cell_type": "markdown",
   "metadata": {
    "deletable": true,
    "editable": true
   },
   "source": [
    "Show statistical summary table of sulcus depth values:"
   ]
  },
  {
   "cell_type": "code",
   "execution_count": 116,
   "metadata": {
    "collapsed": false,
    "deletable": true,
    "editable": true
   },
   "outputs": [
    {
     "data": {
      "text/html": [
       "<div>\n",
       "<table border=\"1\" class=\"dataframe\">\n",
       "  <thead>\n",
       "    <tr style=\"text-align: right;\">\n",
       "      <th></th>\n",
       "      <th>name</th>\n",
       "      <th>ID</th>\n",
       "      <th>area: median</th>\n",
       "      <th>area: MAD</th>\n",
       "      <th>area: mean</th>\n",
       "      <th>area: SD</th>\n",
       "      <th>area: skew</th>\n",
       "      <th>area: kurtosis</th>\n",
       "      <th>area: 25%</th>\n",
       "      <th>area: 75%</th>\n",
       "      <th>mean position: x</th>\n",
       "      <th>mean position: y</th>\n",
       "      <th>mean position: z</th>\n",
       "    </tr>\n",
       "  </thead>\n",
       "  <tbody>\n",
       "    <tr>\n",
       "      <th>0</th>\n",
       "      <td>frontomarginal sulcus</td>\n",
       "      <td>0</td>\n",
       "      <td>0.000000</td>\n",
       "      <td>0.000000</td>\n",
       "      <td>0.000000</td>\n",
       "      <td>0.000000</td>\n",
       "      <td>0.000000</td>\n",
       "      <td>0.000000</td>\n",
       "      <td>0.000000</td>\n",
       "      <td>0.000000</td>\n",
       "      <td>0.000000</td>\n",
       "      <td>0.000000</td>\n",
       "      <td>0.000000</td>\n",
       "    </tr>\n",
       "    <tr>\n",
       "      <th>1</th>\n",
       "      <td>superior frontal sulcus</td>\n",
       "      <td>1</td>\n",
       "      <td>7.361954</td>\n",
       "      <td>2.950607</td>\n",
       "      <td>7.602162</td>\n",
       "      <td>3.804523</td>\n",
       "      <td>0.428667</td>\n",
       "      <td>-0.392069</td>\n",
       "      <td>4.472578</td>\n",
       "      <td>10.413661</td>\n",
       "      <td>-32.588526</td>\n",
       "      <td>50.673536</td>\n",
       "      <td>4.506325</td>\n",
       "    </tr>\n",
       "    <tr>\n",
       "      <th>2</th>\n",
       "      <td>inferior frontal sulcus</td>\n",
       "      <td>2</td>\n",
       "      <td>6.918315</td>\n",
       "      <td>3.033722</td>\n",
       "      <td>7.616679</td>\n",
       "      <td>4.150486</td>\n",
       "      <td>0.623865</td>\n",
       "      <td>-0.319594</td>\n",
       "      <td>4.268711</td>\n",
       "      <td>10.395155</td>\n",
       "      <td>-46.159190</td>\n",
       "      <td>50.315655</td>\n",
       "      <td>-8.545227</td>\n",
       "    </tr>\n",
       "    <tr>\n",
       "      <th>3</th>\n",
       "      <td>precentral sulcus</td>\n",
       "      <td>3</td>\n",
       "      <td>9.158430</td>\n",
       "      <td>3.568747</td>\n",
       "      <td>9.770520</td>\n",
       "      <td>5.160282</td>\n",
       "      <td>0.593787</td>\n",
       "      <td>-0.116812</td>\n",
       "      <td>5.850609</td>\n",
       "      <td>13.154500</td>\n",
       "      <td>-38.745250</td>\n",
       "      <td>20.860475</td>\n",
       "      <td>1.180676</td>\n",
       "    </tr>\n",
       "    <tr>\n",
       "      <th>4</th>\n",
       "      <td>central sulcus</td>\n",
       "      <td>4</td>\n",
       "      <td>9.931674</td>\n",
       "      <td>3.968504</td>\n",
       "      <td>10.024951</td>\n",
       "      <td>4.940362</td>\n",
       "      <td>0.175889</td>\n",
       "      <td>-0.725907</td>\n",
       "      <td>5.996879</td>\n",
       "      <td>13.946191</td>\n",
       "      <td>-36.735775</td>\n",
       "      <td>-0.229968</td>\n",
       "      <td>1.572990</td>\n",
       "    </tr>\n",
       "    <tr>\n",
       "      <th>5</th>\n",
       "      <td>postcentral sulcus</td>\n",
       "      <td>5</td>\n",
       "      <td>9.769476</td>\n",
       "      <td>4.155639</td>\n",
       "      <td>9.823051</td>\n",
       "      <td>5.093475</td>\n",
       "      <td>0.188446</td>\n",
       "      <td>-0.891122</td>\n",
       "      <td>5.471817</td>\n",
       "      <td>13.764740</td>\n",
       "      <td>-36.055273</td>\n",
       "      <td>-12.678109</td>\n",
       "      <td>-2.153404</td>\n",
       "    </tr>\n",
       "    <tr>\n",
       "      <th>6</th>\n",
       "      <td>intraparietal sulcus</td>\n",
       "      <td>6</td>\n",
       "      <td>9.015791</td>\n",
       "      <td>3.673773</td>\n",
       "      <td>9.417891</td>\n",
       "      <td>4.785370</td>\n",
       "      <td>0.246179</td>\n",
       "      <td>-0.878272</td>\n",
       "      <td>5.574932</td>\n",
       "      <td>13.048308</td>\n",
       "      <td>-25.537266</td>\n",
       "      <td>-35.593797</td>\n",
       "      <td>-10.367708</td>\n",
       "    </tr>\n",
       "    <tr>\n",
       "      <th>7</th>\n",
       "      <td>primary intermediate sulcus/1st segment of pos...</td>\n",
       "      <td>7</td>\n",
       "      <td>9.760406</td>\n",
       "      <td>3.589558</td>\n",
       "      <td>9.624332</td>\n",
       "      <td>4.656196</td>\n",
       "      <td>0.061746</td>\n",
       "      <td>-0.946074</td>\n",
       "      <td>5.778068</td>\n",
       "      <td>12.987445</td>\n",
       "      <td>-39.214054</td>\n",
       "      <td>-27.669046</td>\n",
       "      <td>-21.061552</td>\n",
       "    </tr>\n",
       "    <tr>\n",
       "      <th>8</th>\n",
       "      <td>sylvian fissure</td>\n",
       "      <td>8</td>\n",
       "      <td>11.470157</td>\n",
       "      <td>5.228763</td>\n",
       "      <td>11.969992</td>\n",
       "      <td>6.728904</td>\n",
       "      <td>0.332771</td>\n",
       "      <td>-0.848170</td>\n",
       "      <td>6.478958</td>\n",
       "      <td>16.871922</td>\n",
       "      <td>-45.071280</td>\n",
       "      <td>-12.793651</td>\n",
       "      <td>-21.928806</td>\n",
       "    </tr>\n",
       "    <tr>\n",
       "      <th>9</th>\n",
       "      <td>lateral occipital sulcus</td>\n",
       "      <td>9</td>\n",
       "      <td>6.486444</td>\n",
       "      <td>2.818570</td>\n",
       "      <td>6.893726</td>\n",
       "      <td>3.670609</td>\n",
       "      <td>0.458068</td>\n",
       "      <td>-0.712881</td>\n",
       "      <td>3.814623</td>\n",
       "      <td>9.534060</td>\n",
       "      <td>-21.348842</td>\n",
       "      <td>-46.799553</td>\n",
       "      <td>-35.280727</td>\n",
       "    </tr>\n",
       "    <tr>\n",
       "      <th>10</th>\n",
       "      <td>anterior occipital sulcus</td>\n",
       "      <td>10</td>\n",
       "      <td>6.647818</td>\n",
       "      <td>3.113219</td>\n",
       "      <td>6.860168</td>\n",
       "      <td>3.491602</td>\n",
       "      <td>0.145091</td>\n",
       "      <td>-1.203763</td>\n",
       "      <td>3.697080</td>\n",
       "      <td>9.800769</td>\n",
       "      <td>-36.469098</td>\n",
       "      <td>-29.842632</td>\n",
       "      <td>-44.340942</td>\n",
       "    </tr>\n",
       "    <tr>\n",
       "      <th>11</th>\n",
       "      <td>superior temporal sulcus</td>\n",
       "      <td>11</td>\n",
       "      <td>9.369068</td>\n",
       "      <td>3.928625</td>\n",
       "      <td>9.396075</td>\n",
       "      <td>4.858230</td>\n",
       "      <td>0.128603</td>\n",
       "      <td>-1.060997</td>\n",
       "      <td>5.211074</td>\n",
       "      <td>12.973169</td>\n",
       "      <td>-50.748817</td>\n",
       "      <td>18.009113</td>\n",
       "      <td>-41.205663</td>\n",
       "    </tr>\n",
       "    <tr>\n",
       "      <th>12</th>\n",
       "      <td>inferior temporal sulcus</td>\n",
       "      <td>12</td>\n",
       "      <td>6.673587</td>\n",
       "      <td>2.411633</td>\n",
       "      <td>6.547660</td>\n",
       "      <td>2.938330</td>\n",
       "      <td>0.017296</td>\n",
       "      <td>-1.084990</td>\n",
       "      <td>3.979398</td>\n",
       "      <td>8.876130</td>\n",
       "      <td>-49.488354</td>\n",
       "      <td>1.960510</td>\n",
       "      <td>-48.396361</td>\n",
       "    </tr>\n",
       "    <tr>\n",
       "      <th>13</th>\n",
       "      <td>circular sulcus</td>\n",
       "      <td>13</td>\n",
       "      <td>20.368577</td>\n",
       "      <td>3.856069</td>\n",
       "      <td>20.060901</td>\n",
       "      <td>5.804000</td>\n",
       "      <td>-0.583525</td>\n",
       "      <td>0.327143</td>\n",
       "      <td>16.685540</td>\n",
       "      <td>24.342303</td>\n",
       "      <td>-37.657864</td>\n",
       "      <td>27.145120</td>\n",
       "      <td>-29.397835</td>\n",
       "    </tr>\n",
       "    <tr>\n",
       "      <th>14</th>\n",
       "      <td>1st transverse temporal sulcus and Heschl's su...</td>\n",
       "      <td>14</td>\n",
       "      <td>14.945699</td>\n",
       "      <td>5.839392</td>\n",
       "      <td>14.690576</td>\n",
       "      <td>7.361789</td>\n",
       "      <td>-0.031307</td>\n",
       "      <td>-1.020052</td>\n",
       "      <td>8.618990</td>\n",
       "      <td>20.403642</td>\n",
       "      <td>-45.477843</td>\n",
       "      <td>7.364013</td>\n",
       "      <td>-27.591008</td>\n",
       "    </tr>\n",
       "    <tr>\n",
       "      <th>15</th>\n",
       "      <td>cingulate sulcus</td>\n",
       "      <td>15</td>\n",
       "      <td>6.143824</td>\n",
       "      <td>2.636205</td>\n",
       "      <td>6.675948</td>\n",
       "      <td>3.668890</td>\n",
       "      <td>0.639725</td>\n",
       "      <td>-0.339446</td>\n",
       "      <td>3.615813</td>\n",
       "      <td>8.913487</td>\n",
       "      <td>-13.626111</td>\n",
       "      <td>22.397674</td>\n",
       "      <td>-2.107752</td>\n",
       "    </tr>\n",
       "    <tr>\n",
       "      <th>16</th>\n",
       "      <td>paracentral sulcus</td>\n",
       "      <td>16</td>\n",
       "      <td>7.074691</td>\n",
       "      <td>2.615592</td>\n",
       "      <td>7.061562</td>\n",
       "      <td>3.358893</td>\n",
       "      <td>0.149801</td>\n",
       "      <td>-0.907175</td>\n",
       "      <td>4.266573</td>\n",
       "      <td>9.499668</td>\n",
       "      <td>-12.114058</td>\n",
       "      <td>2.534656</td>\n",
       "      <td>10.683855</td>\n",
       "    </tr>\n",
       "    <tr>\n",
       "      <th>17</th>\n",
       "      <td>parietooccipital fissure</td>\n",
       "      <td>17</td>\n",
       "      <td>9.460578</td>\n",
       "      <td>4.292312</td>\n",
       "      <td>10.287662</td>\n",
       "      <td>5.605734</td>\n",
       "      <td>0.386713</td>\n",
       "      <td>-0.872917</td>\n",
       "      <td>5.694414</td>\n",
       "      <td>14.597697</td>\n",
       "      <td>-6.856120</td>\n",
       "      <td>-37.365280</td>\n",
       "      <td>-19.859171</td>\n",
       "    </tr>\n",
       "    <tr>\n",
       "      <th>18</th>\n",
       "      <td>calcarine fissure</td>\n",
       "      <td>18</td>\n",
       "      <td>4.347447</td>\n",
       "      <td>1.813982</td>\n",
       "      <td>5.902937</td>\n",
       "      <td>3.824625</td>\n",
       "      <td>0.930572</td>\n",
       "      <td>-0.408358</td>\n",
       "      <td>2.976365</td>\n",
       "      <td>8.878260</td>\n",
       "      <td>-7.384521</td>\n",
       "      <td>-18.301137</td>\n",
       "      <td>-30.957549</td>\n",
       "    </tr>\n",
       "    <tr>\n",
       "      <th>19</th>\n",
       "      <td>superior rostral sulcus</td>\n",
       "      <td>19</td>\n",
       "      <td>6.155080</td>\n",
       "      <td>2.747281</td>\n",
       "      <td>6.437580</td>\n",
       "      <td>2.993250</td>\n",
       "      <td>0.051843</td>\n",
       "      <td>-1.286107</td>\n",
       "      <td>3.802365</td>\n",
       "      <td>9.186960</td>\n",
       "      <td>-20.686797</td>\n",
       "      <td>74.851368</td>\n",
       "      <td>-8.641355</td>\n",
       "    </tr>\n",
       "    <tr>\n",
       "      <th>20</th>\n",
       "      <td>lateral H-shaped orbital sulcus</td>\n",
       "      <td>20</td>\n",
       "      <td>9.407599</td>\n",
       "      <td>3.885921</td>\n",
       "      <td>10.569503</td>\n",
       "      <td>5.954840</td>\n",
       "      <td>0.573488</td>\n",
       "      <td>-0.658830</td>\n",
       "      <td>6.090578</td>\n",
       "      <td>14.489672</td>\n",
       "      <td>-39.235791</td>\n",
       "      <td>54.125187</td>\n",
       "      <td>-25.677237</td>\n",
       "    </tr>\n",
       "    <tr>\n",
       "      <th>21</th>\n",
       "      <td>olfactory sulcus</td>\n",
       "      <td>21</td>\n",
       "      <td>6.219940</td>\n",
       "      <td>2.559827</td>\n",
       "      <td>6.682005</td>\n",
       "      <td>3.465603</td>\n",
       "      <td>0.605068</td>\n",
       "      <td>-0.204151</td>\n",
       "      <td>3.877449</td>\n",
       "      <td>9.027775</td>\n",
       "      <td>-19.272864</td>\n",
       "      <td>50.488119</td>\n",
       "      <td>-36.630798</td>\n",
       "    </tr>\n",
       "    <tr>\n",
       "      <th>22</th>\n",
       "      <td>occipitotemporal sulcus</td>\n",
       "      <td>22</td>\n",
       "      <td>5.612037</td>\n",
       "      <td>2.377879</td>\n",
       "      <td>5.905806</td>\n",
       "      <td>2.940425</td>\n",
       "      <td>0.370942</td>\n",
       "      <td>-0.817745</td>\n",
       "      <td>3.372393</td>\n",
       "      <td>8.152838</td>\n",
       "      <td>-26.860329</td>\n",
       "      <td>-24.410149</td>\n",
       "      <td>-51.867309</td>\n",
       "    </tr>\n",
       "    <tr>\n",
       "      <th>23</th>\n",
       "      <td>collateral sulcus</td>\n",
       "      <td>23</td>\n",
       "      <td>8.367909</td>\n",
       "      <td>3.160464</td>\n",
       "      <td>8.254755</td>\n",
       "      <td>3.883233</td>\n",
       "      <td>0.003075</td>\n",
       "      <td>-1.100480</td>\n",
       "      <td>5.007075</td>\n",
       "      <td>11.358145</td>\n",
       "      <td>-19.943090</td>\n",
       "      <td>-8.897159</td>\n",
       "      <td>-46.205846</td>\n",
       "    </tr>\n",
       "  </tbody>\n",
       "</table>\n",
       "</div>"
      ],
      "text/plain": [
       "                                                 name  ID  area: median  \\\n",
       "0                               frontomarginal sulcus   0      0.000000   \n",
       "1                             superior frontal sulcus   1      7.361954   \n",
       "2                             inferior frontal sulcus   2      6.918315   \n",
       "3                                   precentral sulcus   3      9.158430   \n",
       "4                                      central sulcus   4      9.931674   \n",
       "5                                  postcentral sulcus   5      9.769476   \n",
       "6                                intraparietal sulcus   6      9.015791   \n",
       "7   primary intermediate sulcus/1st segment of pos...   7      9.760406   \n",
       "8                                     sylvian fissure   8     11.470157   \n",
       "9                            lateral occipital sulcus   9      6.486444   \n",
       "10                          anterior occipital sulcus  10      6.647818   \n",
       "11                           superior temporal sulcus  11      9.369068   \n",
       "12                           inferior temporal sulcus  12      6.673587   \n",
       "13                                    circular sulcus  13     20.368577   \n",
       "14  1st transverse temporal sulcus and Heschl's su...  14     14.945699   \n",
       "15                                   cingulate sulcus  15      6.143824   \n",
       "16                                 paracentral sulcus  16      7.074691   \n",
       "17                           parietooccipital fissure  17      9.460578   \n",
       "18                                  calcarine fissure  18      4.347447   \n",
       "19                            superior rostral sulcus  19      6.155080   \n",
       "20                    lateral H-shaped orbital sulcus  20      9.407599   \n",
       "21                                   olfactory sulcus  21      6.219940   \n",
       "22                            occipitotemporal sulcus  22      5.612037   \n",
       "23                                  collateral sulcus  23      8.367909   \n",
       "\n",
       "    area: MAD  area: mean  area: SD  area: skew  area: kurtosis  area: 25%  \\\n",
       "0    0.000000    0.000000  0.000000    0.000000        0.000000   0.000000   \n",
       "1    2.950607    7.602162  3.804523    0.428667       -0.392069   4.472578   \n",
       "2    3.033722    7.616679  4.150486    0.623865       -0.319594   4.268711   \n",
       "3    3.568747    9.770520  5.160282    0.593787       -0.116812   5.850609   \n",
       "4    3.968504   10.024951  4.940362    0.175889       -0.725907   5.996879   \n",
       "5    4.155639    9.823051  5.093475    0.188446       -0.891122   5.471817   \n",
       "6    3.673773    9.417891  4.785370    0.246179       -0.878272   5.574932   \n",
       "7    3.589558    9.624332  4.656196    0.061746       -0.946074   5.778068   \n",
       "8    5.228763   11.969992  6.728904    0.332771       -0.848170   6.478958   \n",
       "9    2.818570    6.893726  3.670609    0.458068       -0.712881   3.814623   \n",
       "10   3.113219    6.860168  3.491602    0.145091       -1.203763   3.697080   \n",
       "11   3.928625    9.396075  4.858230    0.128603       -1.060997   5.211074   \n",
       "12   2.411633    6.547660  2.938330    0.017296       -1.084990   3.979398   \n",
       "13   3.856069   20.060901  5.804000   -0.583525        0.327143  16.685540   \n",
       "14   5.839392   14.690576  7.361789   -0.031307       -1.020052   8.618990   \n",
       "15   2.636205    6.675948  3.668890    0.639725       -0.339446   3.615813   \n",
       "16   2.615592    7.061562  3.358893    0.149801       -0.907175   4.266573   \n",
       "17   4.292312   10.287662  5.605734    0.386713       -0.872917   5.694414   \n",
       "18   1.813982    5.902937  3.824625    0.930572       -0.408358   2.976365   \n",
       "19   2.747281    6.437580  2.993250    0.051843       -1.286107   3.802365   \n",
       "20   3.885921   10.569503  5.954840    0.573488       -0.658830   6.090578   \n",
       "21   2.559827    6.682005  3.465603    0.605068       -0.204151   3.877449   \n",
       "22   2.377879    5.905806  2.940425    0.370942       -0.817745   3.372393   \n",
       "23   3.160464    8.254755  3.883233    0.003075       -1.100480   5.007075   \n",
       "\n",
       "    area: 75%  mean position: x  mean position: y  mean position: z  \n",
       "0    0.000000          0.000000          0.000000          0.000000  \n",
       "1   10.413661        -32.588526         50.673536          4.506325  \n",
       "2   10.395155        -46.159190         50.315655         -8.545227  \n",
       "3   13.154500        -38.745250         20.860475          1.180676  \n",
       "4   13.946191        -36.735775         -0.229968          1.572990  \n",
       "5   13.764740        -36.055273        -12.678109         -2.153404  \n",
       "6   13.048308        -25.537266        -35.593797        -10.367708  \n",
       "7   12.987445        -39.214054        -27.669046        -21.061552  \n",
       "8   16.871922        -45.071280        -12.793651        -21.928806  \n",
       "9    9.534060        -21.348842        -46.799553        -35.280727  \n",
       "10   9.800769        -36.469098        -29.842632        -44.340942  \n",
       "11  12.973169        -50.748817         18.009113        -41.205663  \n",
       "12   8.876130        -49.488354          1.960510        -48.396361  \n",
       "13  24.342303        -37.657864         27.145120        -29.397835  \n",
       "14  20.403642        -45.477843          7.364013        -27.591008  \n",
       "15   8.913487        -13.626111         22.397674         -2.107752  \n",
       "16   9.499668        -12.114058          2.534656         10.683855  \n",
       "17  14.597697         -6.856120        -37.365280        -19.859171  \n",
       "18   8.878260         -7.384521        -18.301137        -30.957549  \n",
       "19   9.186960        -20.686797         74.851368         -8.641355  \n",
       "20  14.489672        -39.235791         54.125187        -25.677237  \n",
       "21   9.027775        -19.272864         50.488119        -36.630798  \n",
       "22   8.152838        -26.860329        -24.410149        -51.867309  \n",
       "23  11.358145        -19.943090         -8.897159        -46.205846  "
      ]
     },
     "execution_count": 116,
     "metadata": {},
     "output_type": "execute_result"
    }
   ],
   "source": [
    "pd.read_csv(sulcus_table)"
   ]
  },
  {
   "cell_type": "code",
   "execution_count": null,
   "metadata": {
    "collapsed": true,
    "deletable": true,
    "editable": true
   },
   "outputs": [],
   "source": []
  }
 ],
 "metadata": {
  "anaconda-cloud": {},
  "celltoolbar": "Raw Cell Format",
  "kernelspec": {
   "display_name": "Python 3",
   "language": "python",
   "name": "python3"
  },
  "language_info": {
   "codemirror_mode": {
    "name": "ipython",
    "version": 3
   },
   "file_extension": ".py",
   "mimetype": "text/x-python",
   "name": "python",
   "nbconvert_exporter": "python",
   "pygments_lexer": "ipython3",
   "version": "3.5.2"
  }
 },
 "nbformat": 4,
 "nbformat_minor": 0
}
